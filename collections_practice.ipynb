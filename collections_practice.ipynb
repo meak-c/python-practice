{
 "cells": [
  {
   "cell_type": "code",
   "execution_count": 17,
   "id": "f014a43d",
   "metadata": {},
   "outputs": [
    {
     "name": "stdout",
     "output_type": "stream",
     "text": [
      "{'apple': 2, 'banana': 3, 'cherry': 1}\n",
      "{'2025-06-01': {'error': 2, 'info': 1}, '2025-06-02': {'warning': 1}}\n",
      "{'2025': {'06': {'error': 2, 'info': 1}, '07': {'error': 1}}}\n"
     ]
    }
   ],
   "source": [
    "from collections import defaultdict\n",
    "from pprint import pprint\n",
    "\n",
    "# 問題1\n",
    "words = [\"apple\", \"banana\", \"apple\", \"cherry\", \"banana\", \"banana\"]\n",
    "\n",
    "counter = defaultdict(int)\n",
    "for word in words:\n",
    "    counter[word] += 1\n",
    "\n",
    "fruits_counter = {fruit: count for fruit, count in counter.items()}\n",
    "pprint(fruits_counter)\n",
    "\n",
    "# 問題2\n",
    "logs = [(\"2025-06-01\", \"error\"), (\"2025-06-01\", \"info\"),\n",
    "        (\"2025-06-02\", \"warning\"), (\"2025-06-01\", \"error\")]\n",
    "\n",
    "log_info = defaultdict(lambda: defaultdict(int))\n",
    "\n",
    "for date, kind in logs:\n",
    "    log_info[date][kind] += 1\n",
    "\n",
    "log_data = {date: dict(kind) for date, kind in log_info.items()}\n",
    "pprint(log_data)\n",
    "\n",
    "# 問題3\n",
    "names = [\"Alice\", \"Bob\", \"Charlie\"]\n",
    "\n",
    "greetings = defaultdict(lambda: \"Unknown\")\n",
    "for name in names:\n",
    "    greetings[name] = f\"おはよう、{name}さん!\"\n",
    "\n",
    "# 問題4\n",
    "records = [\n",
    "    (\"2025\", \"06\", \"error\"),\n",
    "    (\"2025\", \"06\", \"info\"),\n",
    "    (\"2025\", \"07\", \"error\"),\n",
    "    (\"2025\", \"06\", \"error\"),\n",
    "]\n",
    "\n",
    "data = defaultdict(lambda: defaultdict(lambda: defaultdict(int)))\n",
    "\n",
    "for year, month, kind in records:\n",
    "    data[year][month][kind] += 1\n",
    "\n",
    "cleaned_data = {\n",
    "    year: {\n",
    "        month: dict(kind)\n",
    "        for month, kind in months.items()\n",
    "    }\n",
    "    for year, months in data.items()\n",
    "}\n",
    "\n",
    "pprint(cleaned_data)"
   ]
  },
  {
   "cell_type": "code",
   "execution_count": 18,
   "id": "c5954b4a",
   "metadata": {},
   "outputs": [
    {
     "name": "stdout",
     "output_type": "stream",
     "text": [
      "{'2025': {'06': {'error': 2, 'info': 1}, '07': {'error': 1}}}\n"
     ]
    }
   ],
   "source": [
    "records = [\n",
    "    (\"2025\", \"06\", \"error\"),\n",
    "    (\"2025\", \"06\", \"info\"),\n",
    "    (\"2025\", \"07\", \"error\"),\n",
    "    (\"2025\", \"06\", \"error\"),\n",
    "]\n",
    "\n",
    "data = defaultdict(lambda: defaultdict(lambda: defaultdict(int)))\n",
    "\n",
    "for year, month, kind in records:\n",
    "    data[year][month][kind] += 1\n",
    "\n",
    "def deep_convert(obj):\n",
    "    if isinstance(obj, defaultdict):\n",
    "        return {k: deep_convert(v) for k, v in obj.items()}\n",
    "    else:\n",
    "        return obj\n",
    "    \n",
    "cleaned_data = deep_convert(data)\n",
    "pprint(cleaned_data)"
   ]
  }
 ],
 "metadata": {
  "kernelspec": {
   "display_name": ".venv",
   "language": "python",
   "name": "python3"
  },
  "language_info": {
   "codemirror_mode": {
    "name": "ipython",
    "version": 3
   },
   "file_extension": ".py",
   "mimetype": "text/x-python",
   "name": "python",
   "nbconvert_exporter": "python",
   "pygments_lexer": "ipython3",
   "version": "3.13.4"
  }
 },
 "nbformat": 4,
 "nbformat_minor": 5
}
