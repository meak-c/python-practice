{
 "cells": [
  {
   "cell_type": "code",
   "execution_count": 9,
   "id": "ebbc164c",
   "metadata": {},
   "outputs": [
    {
     "name": "stdout",
     "output_type": "stream",
     "text": [
      "不正な時刻です\n",
      "不正な時刻です\n",
      "こんばんは、hさん\n"
     ]
    }
   ],
   "source": [
    "def greeting_message(name, hour):\n",
    "    if 5 <= hour <= 11:\n",
    "        return f\"おはよう、{name}さん\"\n",
    "    elif 12 <= hour <= 17:\n",
    "        return f\"こんにちは、{name}さん\"\n",
    "    else:\n",
    "        return f\"こんばんは、{name}さん\"\n",
    "    \n",
    "while True:\n",
    "    time = int(input(\"時刻を設定してください : \"))\n",
    "    if time < 0 or time > 23:\n",
    "        print(\"不正な時刻です\")\n",
    "    else:\n",
    "        your_name = str(input(\"あなたの名前を教えて下さい : \"))\n",
    "        print(greeting_message(your_name, time))\n",
    "        break"
   ]
  },
  {
   "cell_type": "code",
   "execution_count": 13,
   "id": "5fccf1e2",
   "metadata": {},
   "outputs": [
    {
     "name": "stdout",
     "output_type": "stream",
     "text": [
      "1\n",
      "2\n",
      "3\n",
      "4\n",
      "5\n",
      "6\n",
      "7\n"
     ]
    }
   ],
   "source": [
    "counter = 0\n",
    "\n",
    "def update_counter():\n",
    "    global counter\n",
    "    counter += 1\n",
    "    print(counter)\n",
    "    \n",
    "n = int(input(\"反復回数を指定してください : \"))\n",
    "\n",
    "for i in range(n):\n",
    "    update_counter()"
   ]
  },
  {
   "cell_type": "code",
   "execution_count": 25,
   "id": "aab40a6e",
   "metadata": {},
   "outputs": [
    {
     "name": "stdout",
     "output_type": "stream",
     "text": [
      "整数を順に一つずつ入力してください\n",
      "入れ替えると (4, 1)\n"
     ]
    }
   ],
   "source": [
    "def swap_values(a, b):\n",
    "    temp = a\n",
    "    a = b\n",
    "    b = temp\n",
    "    \n",
    "    return a, b\n",
    "\n",
    "print(\"整数を順に一つずつ入力してください\")\n",
    "x = int(input(\"x = \"))\n",
    "y = int(input(\"y = \"))\n",
    "print(f\"入れ替えると {swap_values(x, y)}\")"
   ]
  },
  {
   "cell_type": "code",
   "execution_count": null,
   "id": "b72846f2",
   "metadata": {},
   "outputs": [
    {
     "name": "stdout",
     "output_type": "stream",
     "text": [
      "すべて等しい\n"
     ]
    }
   ],
   "source": [
    "def duplicate_number(x, y, z):\n",
    "    if x == y:\n",
    "        return x\n",
    "    elif y == z:\n",
    "        return y\n",
    "    elif z == x:\n",
    "        return z\n",
    "\n",
    "def process_numbers(a, b, c):\n",
    "    if a == b == c:\n",
    "        return \"すべて等しい\"\n",
    "    elif a == b or b == c or c == a:\n",
    "        return f\"等しい値は{duplicate_number(a, b, c)}\"\n",
    "    else:\n",
    "        return f\"最大の値は {max(a, b, c)}, 最小の値は {min(a, b, c)}\"\n",
    "    \n",
    "print(process_numbers(4,4,4))"
   ]
  }
 ],
 "metadata": {
  "kernelspec": {
   "display_name": ".venv",
   "language": "python",
   "name": "python3"
  },
  "language_info": {
   "codemirror_mode": {
    "name": "ipython",
    "version": 3
   },
   "file_extension": ".py",
   "mimetype": "text/x-python",
   "name": "python",
   "nbconvert_exporter": "python",
   "pygments_lexer": "ipython3",
   "version": "3.9.3"
  }
 },
 "nbformat": 4,
 "nbformat_minor": 5
}
