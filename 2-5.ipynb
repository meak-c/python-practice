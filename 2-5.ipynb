{
 "cells": [
  {
   "cell_type": "code",
   "execution_count": 2,
   "id": "a6aead0c",
   "metadata": {},
   "outputs": [
    {
     "name": "stdout",
     "output_type": "stream",
     "text": [
      "['1', '2', '3', '4', '5', '6', '7', '8', '9', '...']\n"
     ]
    }
   ],
   "source": [
    "text = \"1a2a3a4a5a6a7a8a9a...\"\n",
    "integer = text.split(\"a\")\n",
    "print(integer)"
   ]
  },
  {
   "cell_type": "code",
   "execution_count": 6,
   "id": "e9c6647b",
   "metadata": {},
   "outputs": [
    {
     "name": "stdout",
     "output_type": "stream",
     "text": [
      "['apple', 'banana', 'cherry']\n",
      "Python/AI/学習\n",
      "私はAIが好きです\n"
     ]
    }
   ],
   "source": [
    "# 問1 split\n",
    "text = \"apple,banana,cherry\"\n",
    "fruits = text.split(\",\")\n",
    "print(fruits)\n",
    "\n",
    "# 問2 : join\n",
    "words = ['Python', 'AI', '学習']\n",
    "word_row = \"/\".join(words)\n",
    "print(word_row)\n",
    "\n",
    "# 問3 : replace\n",
    "py_love = \"私はPythonが好きです\"\n",
    "AI_love = py_love.replace(\"Python\", \"AI\")\n",
    "print(AI_love)"
   ]
  },
  {
   "cell_type": "code",
   "execution_count": null,
   "id": "0f747214",
   "metadata": {},
   "outputs": [],
   "source": []
  }
 ],
 "metadata": {
  "kernelspec": {
   "display_name": "venv",
   "language": "python",
   "name": "python3"
  },
  "language_info": {
   "codemirror_mode": {
    "name": "ipython",
    "version": 3
   },
   "file_extension": ".py",
   "mimetype": "text/x-python",
   "name": "python",
   "nbconvert_exporter": "python",
   "pygments_lexer": "ipython3",
   "version": "3.13.4"
  }
 },
 "nbformat": 4,
 "nbformat_minor": 5
}
