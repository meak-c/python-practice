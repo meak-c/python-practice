{
 "cells": [
  {
   "cell_type": "code",
   "execution_count": null,
   "id": "e121b0c0",
   "metadata": {},
   "outputs": [
    {
     "name": "stdout",
     "output_type": "stream",
     "text": [
      "数値を入力してください\n",
      "入力処理を終了します\n"
     ]
    }
   ],
   "source": [
    "# 問題1\n",
    "try:\n",
    "    num = int(input(\"数値を入力してください\"))\n",
    "except ValueError:\n",
    "    print(\"数値を入力してください\")\n",
    "else:\n",
    "    print(f\"入力された値は{num}です\")\n",
    "finally:\n",
    "    print(\"入力処理を終了します\")"
   ]
  },
  {
   "cell_type": "code",
   "execution_count": 9,
   "id": "0a07f828",
   "metadata": {},
   "outputs": [
    {
     "name": "stdout",
     "output_type": "stream",
     "text": [
      "割る数は非ゼロな値を入力してください\n",
      "処理を終了します\n"
     ]
    }
   ],
   "source": [
    "# 問題2\n",
    "try:\n",
    "    x = int(input(\"割られる数を入力してください : \"))\n",
    "    y = int(input(\"割る数を入力してください :\"))\n",
    "    result = x / y\n",
    "except ValueError:\n",
    "    print(\"数値を入力してください\")\n",
    "except ZeroDivisionError:\n",
    "    print(\"割る数は非ゼロな値を入力してください\")\n",
    "else:\n",
    "    print(f\"結果は{result}です\")\n",
    "finally:\n",
    "    print(\"処理を終了します\")"
   ]
  },
  {
   "cell_type": "code",
   "execution_count": null,
   "id": "50fe13f2",
   "metadata": {},
   "outputs": [
    {
     "name": "stdout",
     "output_type": "stream",
     "text": [
      "有効な年齢を入力してください\n",
      "有効な年齢を入力してください\n",
      "ログインを続行します\n"
     ]
    }
   ],
   "source": [
    "is_valid = True\n",
    "\n",
    "while is_valid:\n",
    "    try:\n",
    "        age = int(input(\"あなたの年齢を教えて下さい : \"))\n",
    "    except ValueError:\n",
    "        print(\"正しい年齢を再入力してください\")\n",
    "    else:\n",
    "        if age <= 0:\n",
    "            print(\"有効な年齢を入力してください\")\n",
    "        elif age < 13:\n",
    "            print(\"このサービスは13歳未満は利用できません\")\n",
    "            is_valid = False\n",
    "        else:\n",
    "            print(\"ログインを続行します\")\n",
    "            is_valid = False"
   ]
  },
  {
   "cell_type": "code",
   "execution_count": 13,
   "id": "b1f81acf",
   "metadata": {},
   "outputs": [
    {
     "name": "stdout",
     "output_type": "stream",
     "text": [
      "このサービスは13歳未満は利用できません\n"
     ]
    }
   ],
   "source": [
    "def login_form():\n",
    "    while True:\n",
    "        try:\n",
    "            age = int(input(\"あなたの年齢を教えて下さい : \"))\n",
    "        except ValueError:\n",
    "            print(\"年齢は数字で入力してください\")\n",
    "        else:\n",
    "            if age <= 0:\n",
    "                print(\"有効な年齢を入力してください\")\n",
    "            elif age < 13:\n",
    "                print(\"このサービスは13歳未満は利用できません\")\n",
    "                return\n",
    "            else:\n",
    "                print(\"ログインを続行します\")\n",
    "                return\n",
    "            \n",
    "login_form()"
   ]
  },
  {
   "cell_type": "code",
   "execution_count": null,
   "id": "7dbdab79",
   "metadata": {},
   "outputs": [],
   "source": [
    "import math as m\n",
    "\n",
    "def discounted_price():\n",
    "    while True:\n",
    "        try:\n",
    "            price = int(input(\"商品価格を入力してください : \"))\n",
    "        except ValueError:\n",
    "            print(\"価格は整数で入力してください\")\n",
    "        try:\n",
    "            discount_rate = int(input(\"割引率を入力してください : \"))\n",
    "        except ValueError:\n",
    "            print(\"割引率は整数で入力してください\")\n",
    "        else:\n",
    "            if price < 100:\n",
    "                print(\"価格は100以上を入力してください\")\n",
    "            else:\n",
    "                if not (0 <= discount_rate <= 100):\n",
    "                    print(\"割引率は0〜100の範囲で入力してください\")\n",
    "                else:\n",
    "                    result_price = price * (1 - discount_rate / 100)\n",
    "                    print(f\"割引後の価格は {m.floor(result_price)} 円です\")\n",
    "                    return\n",
    "\n",
    "\n",
    "discounted_price()"
   ]
  },
  {
   "cell_type": "code",
   "execution_count": 6,
   "id": "edc9f198",
   "metadata": {},
   "outputs": [
    {
     "name": "stdout",
     "output_type": "stream",
     "text": [
      "獲得予定ポイントは 221 pt です\n"
     ]
    }
   ],
   "source": [
    "import math\n",
    "\n",
    "\n",
    "def calculate_points_reward():\n",
    "    while True:\n",
    "        try:\n",
    "            payment = int(input(\"支払金額を入力してください : \"))\n",
    "\n",
    "        except ValueError:\n",
    "            print(\"支払金額は整数で入力してください\")\n",
    "            continue\n",
    "\n",
    "        if payment < 1000:\n",
    "            print(\"1,000円以上の金額を入力してください\")\n",
    "            continue\n",
    "\n",
    "        try:\n",
    "            reward_rate = int(input(\"還元率を入力してください : \"))\n",
    "\n",
    "        except ValueError:\n",
    "            print(\"還元率は整数で入力してください\")\n",
    "            continue\n",
    "\n",
    "        if not (1 <= reward_rate <= 50):\n",
    "            print(\"還元率は1~50の範囲で入力してください\")\n",
    "            continue\n",
    "\n",
    "        reward_points = payment * reward_rate / 100\n",
    "        print(f\"獲得予定ポイントは {math.floor(reward_points)} pt です\")\n",
    "        return\n",
    "\n",
    "\n",
    "calculate_points_reward()"
   ]
  },
  {
   "cell_type": "code",
   "execution_count": null,
   "id": "fb8a10e9",
   "metadata": {},
   "outputs": [
    {
     "name": "stdout",
     "output_type": "stream",
     "text": [
      "処理時間は整数で入力してください。\n",
      "件数は1~1000件の範囲で入力してください。\n",
      "処理時間は1~60秒の範囲で入力してください。\n",
      "処理時間は整数で入力してください。\n",
      "送信にかかる総処理時間は 625 秒です。\n"
     ]
    }
   ],
   "source": [
    "def email_send_form():\n",
    "    while True:\n",
    "        try:\n",
    "            email_amount = int(input(\"メール件数を入力してください : \"))\n",
    "\n",
    "        except ValueError:\n",
    "            print(\"メール件数は整数で入力してください。\")\n",
    "            continue\n",
    "\n",
    "        if not (1 <= email_amount <= 1000):\n",
    "            print(\"件数は1~1000件の範囲で入力してください。\")\n",
    "            continue\n",
    "\n",
    "        try:\n",
    "            processing_time = int(input(\"処理時間を入力してください : \"))\n",
    "\n",
    "        except ValueError:\n",
    "            print(\"処理時間は整数で入力してください。\")\n",
    "            continue\n",
    "\n",
    "        if not (1 <= processing_time <= 60):\n",
    "            print(\"処理時間は1~60秒の範囲で入力してください。\")\n",
    "            continue\n",
    "\n",
    "        total_processing_time = email_amount * processing_time\n",
    "        print(f\"送信にかかる総処理時間は {total_processing_time} 秒です。\")\n",
    "        return\n",
    "\n",
    "\n",
    "email_send_form()"
   ]
  },
  {
   "cell_type": "code",
   "execution_count": null,
   "id": "0c9dbe6d",
   "metadata": {},
   "outputs": [],
   "source": []
  }
 ],
 "metadata": {
  "kernelspec": {
   "display_name": "venv",
   "language": "python",
   "name": "python3"
  },
  "language_info": {
   "codemirror_mode": {
    "name": "ipython",
    "version": 3
   },
   "file_extension": ".py",
   "mimetype": "text/x-python",
   "name": "python",
   "nbconvert_exporter": "python",
   "pygments_lexer": "ipython3",
   "version": "3.13.4"
  }
 },
 "nbformat": 4,
 "nbformat_minor": 5
}
