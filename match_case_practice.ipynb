{
 "cells": [
  {
   "cell_type": "code",
   "execution_count": 4,
   "id": "b431a0d5",
   "metadata": {},
   "outputs": [
    {
     "name": "stdout",
     "output_type": "stream",
     "text": [
      "天気がわかりません\n"
     ]
    }
   ],
   "source": [
    "# 問題1\n",
    "weather = input(\"天気を入力してください: \")\n",
    "\n",
    "match weather:\n",
    "    case \"晴れ\":\n",
    "        print(\"洗濯日和\")\n",
    "    case \"雨\":\n",
    "        print(\"傘を持っていってね\")\n",
    "    case \"雪\":\n",
    "        print(\"足元に気をつけて！\")\n",
    "    case _:\n",
    "        print(\"天気がわかりません\")"
   ]
  },
  {
   "cell_type": "code",
   "execution_count": 6,
   "id": "c7b27a96",
   "metadata": {},
   "outputs": [
    {
     "name": "stdout",
     "output_type": "stream",
     "text": [
      "不明なコマンドです\n"
     ]
    }
   ],
   "source": [
    "# 問題2\n",
    "command = input(\"コマンドを入力してください: \")\n",
    "\n",
    "match command:\n",
    "    case \"start\":\n",
    "        print(\"処理を開始します\")\n",
    "    case \"stop\":\n",
    "        print(\"処理を停止しました\")\n",
    "    case \"delete\":\n",
    "        print(\"ファイルを削除しました\")\n",
    "    case \"help\" | \"h\":\n",
    "        print(\"ヘルプを表示します\")\n",
    "    case _:\n",
    "        print(\"不明なコマンドです\")"
   ]
  },
  {
   "cell_type": "code",
   "execution_count": 11,
   "id": "4222f8b9",
   "metadata": {},
   "outputs": [
    {
     "name": "stdout",
     "output_type": "stream",
     "text": [
      "Meekさんは23歳です\n"
     ]
    }
   ],
   "source": [
    "# 問題3\n",
    "person = (\"Meek\", 23)\n",
    "\n",
    "match person:\n",
    "    case (name, age):\n",
    "        print(f\"{name}さんは{age}歳です\")\n",
    "    case _:\n",
    "        print(\"データ形式が不正です\")"
   ]
  },
  {
   "cell_type": "code",
   "execution_count": 15,
   "id": "86c7e4f9",
   "metadata": {},
   "outputs": [
    {
     "name": "stdout",
     "output_type": "stream",
     "text": [
      "もう少し頑張ろう！\n"
     ]
    }
   ],
   "source": [
    "# 問題4\n",
    "score = int(input(\"点数を入力してください: \"))\n",
    "\n",
    "match score:\n",
    "    case s if s >= 90:\n",
    "        print(\"優秀です！\")\n",
    "    case s if 70 <= s <= 89:\n",
    "        print(\"合格です\")\n",
    "    case _:\n",
    "        print(\"もう少し頑張ろう！\")"
   ]
  },
  {
   "cell_type": "code",
   "execution_count": 21,
   "id": "14ca6c4e",
   "metadata": {},
   "outputs": [
    {
     "name": "stdout",
     "output_type": "stream",
     "text": [
      "2個のデータがあります : appleとbanana\n"
     ]
    }
   ],
   "source": [
    "# 問題5\n",
    "items = [\"apple\", \"banana\"]\n",
    "\n",
    "match items:\n",
    "    case i if len(i) == 0:\n",
    "        print(\"空のリストです\")\n",
    "    case i if len(i) == 1:\n",
    "        print(f\"1個のデータがあります : {i[0]}\")\n",
    "    case i if len(i) == 2:\n",
    "        print(f\"2個のデータがあります : {i[0]}と{i[1]}\")\n",
    "    case _:\n",
    "        print(f\"複数のデータがあります（{len(i)}件）\")"
   ]
  },
  {
   "cell_type": "code",
   "execution_count": 23,
   "id": "3e1ba22d",
   "metadata": {},
   "outputs": [
    {
     "name": "stdout",
     "output_type": "stream",
     "text": [
      "2個のデータがあります : appleとbanana\n"
     ]
    }
   ],
   "source": [
    "# 問題5 修正版\n",
    "items = [\"apple\", \"banana\"]\n",
    "\n",
    "match items:\n",
    "    case []:\n",
    "        print(\"空のリストです\")\n",
    "    case [a]:\n",
    "        print(f\"1個のデータがあります : {a}\")\n",
    "    case [a, b]:\n",
    "        print(f\"2個のデータがあります : {a}と{b}\")\n",
    "    case [*rest]:\n",
    "        print(f\"複数のデータがあります（{len(rest)}件）\")"
   ]
  },
  {
   "cell_type": "code",
   "execution_count": null,
   "id": "56e352e0",
   "metadata": {},
   "outputs": [],
   "source": []
  }
 ],
 "metadata": {
  "kernelspec": {
   "display_name": ".venv",
   "language": "python",
   "name": "python3"
  },
  "language_info": {
   "codemirror_mode": {
    "name": "ipython",
    "version": 3
   },
   "file_extension": ".py",
   "mimetype": "text/x-python",
   "name": "python",
   "nbconvert_exporter": "python",
   "pygments_lexer": "ipython3",
   "version": "3.13.4"
  }
 },
 "nbformat": 4,
 "nbformat_minor": 5
}
