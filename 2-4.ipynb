{
 "cells": [
  {
   "cell_type": "code",
   "execution_count": 3,
   "id": "2611a294",
   "metadata": {},
   "outputs": [
    {
     "name": "stdout",
     "output_type": "stream",
     "text": [
      "[1, 4, 9, 16, 25]\n",
      "['banana', 'cherry']\n",
      "{'Alice': 85, 'Carol': 91}\n"
     ]
    }
   ],
   "source": [
    "# 問1 ; 平方リスト作る\n",
    "nums = [1, 2, 3, 4, 5]\n",
    "power = [num ** 2 for num in nums]\n",
    "print(power)\n",
    "\n",
    "# 問2 : 6文字以上の単語リスト\n",
    "fruits = ['apple', 'banana', 'cherry', 'date']\n",
    "over_sixchar = [fruit for fruit in fruits if len(fruit) >= 6]\n",
    "print(over_sixchar)\n",
    "\n",
    "# 問3 : 70点以上だけのリスト\n",
    "students_score = {'Alice': 85, 'Bob': 62, 'Carol': 91}\n",
    "over_seventy = {name: score for name, score in students_score.items() if score >= 70}\n",
    "print(over_seventy)"
   ]
  },
  {
   "cell_type": "code",
   "execution_count": null,
   "id": "a3cefd6f",
   "metadata": {},
   "outputs": [
    {
     "name": "stdout",
     "output_type": "stream",
     "text": [
      "['Alice', 'Carol', 'Dave']\n"
     ]
    }
   ],
   "source": [
    "# 問 : 70点以上の人の名前を取り出す\n",
    "scores = [\n",
    "    ('Alice', 85),\n",
    "    ('Bob', 62),\n",
    "    ('Carol', 91),\n",
    "    ('Dave', 70),\n",
    "    ('Eve', 58)\n",
    "]\n",
    "\n",
    "over_70 = [score[0] for score in scores if score[1] >= 70]\n",
    "print(over_70)\n",
    "\n",
    "# 別にあんまり長くならなかったので内包表記で書いた"
   ]
  },
  {
   "cell_type": "code",
   "execution_count": null,
   "id": "b50afdb3",
   "metadata": {},
   "outputs": [],
   "source": []
  }
 ],
 "metadata": {
  "kernelspec": {
   "display_name": "venv",
   "language": "python",
   "name": "python3"
  },
  "language_info": {
   "codemirror_mode": {
    "name": "ipython",
    "version": 3
   },
   "file_extension": ".py",
   "mimetype": "text/x-python",
   "name": "python",
   "nbconvert_exporter": "python",
   "pygments_lexer": "ipython3",
   "version": "3.13.4"
  }
 },
 "nbformat": 4,
 "nbformat_minor": 5
}
