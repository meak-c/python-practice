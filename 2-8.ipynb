{
 "cells": [
  {
   "cell_type": "code",
   "execution_count": 2,
   "id": "2c903ecd",
   "metadata": {},
   "outputs": [],
   "source": [
    "with open(\"test.txt\", \"w\", encoding=\"utf-8\") as f:\n",
    "    f.write(\"こんにちは\\n\")\n",
    "    f.write(\"Python学習中です\\n\")"
   ]
  },
  {
   "cell_type": "code",
   "execution_count": 3,
   "id": "330e5979",
   "metadata": {},
   "outputs": [
    {
     "name": "stdout",
     "output_type": "stream",
     "text": [
      "これはPythonの勉強用です。\n",
      "複数のlanguageを混ぜています。\n",
      "　スペースも入れました。\n",
      "　　　　　無事反映されるのでしょうか\n",
      "  I'm looking forward to write many codes by Python.\n"
     ]
    }
   ],
   "source": [
    "with open(\"hello.txt\", \"r\", encoding=\"utf-8\") as f:\n",
    "    content = f.read()\n",
    "    print(content)"
   ]
  },
  {
   "cell_type": "code",
   "execution_count": 5,
   "id": "df72ff7c",
   "metadata": {},
   "outputs": [
    {
     "name": "stdout",
     "output_type": "stream",
     "text": [
      "こーんにーちはーー！！\n",
      "\n"
     ]
    }
   ],
   "source": [
    "with open(\"greeting.txt\", \"r\", encoding=\"utf-8\") as f:\n",
    "    content = f.readline()\n",
    "    print(content)"
   ]
  },
  {
   "cell_type": "code",
   "execution_count": 6,
   "id": "260cfed5",
   "metadata": {},
   "outputs": [
    {
     "name": "stdout",
     "output_type": "stream",
     "text": [
      "['おはようございます\\n', 'こーんにーちはーー！！\\n', '\\n', 'こんばんは\\n', '\\n', '\\n', '今は夜中なのでこんばんは']\n"
     ]
    }
   ],
   "source": [
    "with open(\"multi.txt\", \"r\", encoding=\"utf-8\") as f:\n",
    "    contents = f.readlines()\n",
    "    print(contents)"
   ]
  },
  {
   "cell_type": "code",
   "execution_count": 8,
   "id": "ccd10d88",
   "metadata": {},
   "outputs": [],
   "source": [
    "with open(\"profile.txt\", \"w\", encoding=\"utf-8\") as prof:\n",
    "    name = input(\"あなたの名前を教えて下さい : \")\n",
    "    age = input(\"あなたの年齢を教えて下さい : \")\n",
    "    hobby = input(\"あなたの趣味を教えて下さい : \")\n",
    "\n",
    "    prof.write(f\"名前:{name}\\n\")\n",
    "    prof.write(f\"年齢:{age}歳\\n\")\n",
    "    prof.write(f\"趣味:{hobby}\\n\")"
   ]
  },
  {
   "cell_type": "code",
   "execution_count": 4,
   "id": "65c8a0af",
   "metadata": {},
   "outputs": [
    {
     "name": "stdout",
     "output_type": "stream",
     "text": [
      "満年齢は整数で入力してください\n",
      "満年齢は整数で入力してください\n",
      "名前は一文字以上入力してください\n",
      "満年齢は整数で入力してください\n",
      "名前は一文字以上入力してください\n",
      "趣味は一文字以上入力してください\n"
     ]
    }
   ],
   "source": [
    "with open(\"profile.txt\", \"w\", encoding=\"utf-8\") as prof:\n",
    "    while True:\n",
    "        try:\n",
    "            age = int(input(\"あなたの満年齢を教えて下さい : \"))\n",
    "\n",
    "        except ValueError:\n",
    "            print(\"満年齢は整数で入力してください\")\n",
    "            continue\n",
    "\n",
    "        if age < 0:\n",
    "            print(\"満年齢は非負整数で入力してください\")\n",
    "            continue\n",
    "\n",
    "        name = input(\"あなたの名前を教えて下さい : \")\n",
    "\n",
    "        if len(name.strip()) == 0:\n",
    "            print(\"名前は一文字以上入力してください\")\n",
    "            continue\n",
    "\n",
    "        hobby = input(\"あなたの趣味を教えて下さい : \")\n",
    "\n",
    "        if len(hobby.strip()) == 0:\n",
    "            print(\"趣味は一文字以上入力してください\")\n",
    "            continue\n",
    "\n",
    "        prof.write(f\"名前:{name}\\n\")\n",
    "        prof.write(f\"年齢:{age}歳\\n\")\n",
    "        prof.write(f\"趣味:{hobby}\\n\")\n",
    "        break"
   ]
  },
  {
   "cell_type": "code",
   "execution_count": null,
   "id": "baaa5dc2",
   "metadata": {},
   "outputs": [],
   "source": [
    "with open(\"profile.txt\", \"w\", encoding=\"utf-8\") as prof:\n",
    "    while True:\n",
    "        name = input(\n",
    "            \"あなたの名前を、ひらがな・カタカナ・漢字・アルファベットのみで入力してください : \"\n",
    "        )\n",
    "        if not name.isalpha():\n",
    "            print(\n",
    "                \"名前はひらがな・カタカナ・漢字・アルファベットのみで入力してください\"\n",
    "            )\n",
    "            continue\n",
    "        break\n",
    "\n",
    "    while True:\n",
    "        try:\n",
    "            age = int(input(\"あなたの満年齢を入力してください : \"))\n",
    "\n",
    "        except ValueError:\n",
    "            print(\"満年齢は算用数字の整数で入力してください\")\n",
    "            continue\n",
    "\n",
    "        if age < 0:\n",
    "            print(\"満年齢は非負整数で入力してください\")\n",
    "            continue\n",
    "        break\n",
    "\n",
    "    while True:\n",
    "        hobby = input(\"あなたの趣味を入力してください : \")\n",
    "\n",
    "        if not hobby.isalpha():\n",
    "            print(\n",
    "                \"趣味はひらがな・カタカナ・漢字・アルファベットのみで入力してください\"\n",
    "            )\n",
    "            continue\n",
    "        break\n",
    "\n",
    "    prof.write(f\"名前:{name}\\n\")\n",
    "    prof.write(f\"年齢:{age}歳\\n\")\n",
    "    prof.write(f\"趣味:{hobby}\\n\")"
   ]
  },
  {
   "cell_type": "code",
   "execution_count": null,
   "id": "58bc61a4",
   "metadata": {},
   "outputs": [
    {
     "name": "stdout",
     "output_type": "stream",
     "text": [
      "デバッグモードです\n"
     ]
    }
   ],
   "source": [
    "with open(\"mode.txt\", \"r\", encoding=\"utf-8\") as mode:\n",
    "    content = mode.readline().strip()\n",
    "    if content == \"debug\":\n",
    "        print(\"デバッグモードです\")\n",
    "    elif content == \"test\":\n",
    "        print(\"テストモードです\")\n",
    "    elif content == \"release\":\n",
    "        print(\"リリースモードです\")\n",
    "    else:\n",
    "        print(\"不明なモードです\")"
   ]
  },
  {
   "cell_type": "code",
   "execution_count": 1,
   "id": "cdfabf05",
   "metadata": {},
   "outputs": [
    {
     "name": "stdout",
     "output_type": "stream",
     "text": [
      "\n"
     ]
    }
   ],
   "source": [
    "with open(\"register.txt\", \"w\", encoding=\"utf-8\") as info:\n",
    "    while True:\n",
    "        name = input(\n",
    "            \"あなたの名前を、ひらがな・カタカナ・漢字・アルファベットのみで入力してください : \"\n",
    "        )\n",
    "\n",
    "        if not name.isalpha():\n",
    "            print(\n",
    "                \"名前はひらがな・カタカナ・漢字・アルファベットのみで入力してください。\"\n",
    "            )\n",
    "            continue\n",
    "        break\n",
    "\n",
    "    while True:\n",
    "        try:\n",
    "            age = int(input(\"あなたの満年齢を入力してください : \"))\n",
    "\n",
    "        except ValueError:\n",
    "            print(\"満年齢は算用数字の整数で入力してください\")\n",
    "            continue\n",
    "\n",
    "        if age < 0:\n",
    "            print(\"満年齢は非負整数で入力してください\")\n",
    "            continue\n",
    "        break\n",
    "\n",
    "    while True:  # 除外条件はきりがないので、3つだけにした\n",
    "        email = input(\"あなたのメールアドレスを入力してください : \")\n",
    "\n",
    "        if (not \"@\" in email) or (not \".\" in email) or (\" \" in email):\n",
    "            print(\"正しいメールアドレスを入力してください。\")\n",
    "            continue\n",
    "        break\n",
    "\n",
    "    info.write(f\"名前: {name}\")\n",
    "    info.write(f\"年齢: {age}歳\")\n",
    "    info.write(f\"メール: {email}\")\n",
    "\n",
    "    try:\n",
    "        with open(\"register.txt\", \"r\", encoding=\"utf-8\") as show_info:\n",
    "            personal_info = show_info.read()\n",
    "            print(personal_info)\n",
    "\n",
    "    except FileNotFoundError:\n",
    "        print(\"過去の申込者はいません\")"
   ]
  },
  {
   "cell_type": "code",
   "execution_count": null,
   "id": "e4a0150e",
   "metadata": {},
   "outputs": [
    {
     "name": "stdout",
     "output_type": "stream",
     "text": [
      "<過去の申込み者>\n",
      "名前 : meek\n",
      "年齢 : 23\n",
      "メール : meek@m.jp\n",
      " \n",
      "\n",
      "登録が完了しました。\n"
     ]
    }
   ],
   "source": [
    "def read_previou_logs():\n",
    "    try:\n",
    "        with open(\"register.txt\", \"r\", encoding=\"utf-8\") as log:\n",
    "            print(\"<過去の申込み者>\")\n",
    "            print(log.read())\n",
    "\n",
    "    except FileNotFoundError:\n",
    "        print(\"過去の申込者はいません。\")\n",
    "\n",
    "\n",
    "def get_valid_name():\n",
    "    while True:\n",
    "        name = input(\"名前を入力: \").strip()\n",
    "\n",
    "        if not name.isalpha():\n",
    "            print(\n",
    "                \"名前は1文字以上で、ひらがな・カタカナ・漢字・アルファベットのみで入力してください。\"\n",
    "            )\n",
    "            continue\n",
    "        return name\n",
    "\n",
    "\n",
    "def get_valid_age():\n",
    "    while True:\n",
    "        try:\n",
    "            age = int(input(\"年齢を入力: \"))\n",
    "\n",
    "        except ValueError:\n",
    "            print(\"年齢は数値のみで入力してください。\")\n",
    "            continue\n",
    "\n",
    "        if age < 0:\n",
    "            print(\"年齢は0以上の数値を入力してください。\")\n",
    "            continue\n",
    "\n",
    "        return age\n",
    "\n",
    "\n",
    "def get_valid_email():\n",
    "    while True:\n",
    "        email = input(\"メールアドレスを入力: \").strip()\n",
    "\n",
    "        if (not \"@\" in email) or (not \".\" in email) or (\" \" in email):\n",
    "            print(\"メールアドレスは必ず@と.を含み、スペースは含めないでください。\")\n",
    "            continue\n",
    "\n",
    "        return email\n",
    "\n",
    "\n",
    "def register_user(name, age, email):\n",
    "    with open(\"register.txt\", \"a\", encoding=\"utf-8\") as form:\n",
    "        form.write(f\"名前 : {name}\\n\")\n",
    "        form.write(f\"年齢 : {age}\\n\")\n",
    "        form.write(f\"メール : {email}\\n\")\n",
    "        form.write(\" \\n\")\n",
    "\n",
    "\n",
    "def main():\n",
    "    read_previou_logs()\n",
    "\n",
    "    name = get_valid_name()\n",
    "    age = get_valid_age()\n",
    "    email = get_valid_email()\n",
    "\n",
    "    register_user(name, age, email)\n",
    "    print(\"登録が完了しました。\")\n",
    "\n",
    "\n",
    "main()"
   ]
  },
  {
   "cell_type": "code",
   "execution_count": null,
   "id": "91927074",
   "metadata": {},
   "outputs": [],
   "source": []
  }
 ],
 "metadata": {
  "kernelspec": {
   "display_name": "venv",
   "language": "python",
   "name": "python3"
  },
  "language_info": {
   "codemirror_mode": {
    "name": "ipython",
    "version": 3
   },
   "file_extension": ".py",
   "mimetype": "text/x-python",
   "name": "python",
   "nbconvert_exporter": "python",
   "pygments_lexer": "ipython3",
   "version": "3.13.4"
  }
 },
 "nbformat": 4,
 "nbformat_minor": 5
}
