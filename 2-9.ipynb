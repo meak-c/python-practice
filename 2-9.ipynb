{
 "cells": [
  {
   "cell_type": "code",
   "execution_count": 1,
   "id": "a018a256",
   "metadata": {},
   "outputs": [
    {
     "name": "stdout",
     "output_type": "stream",
     "text": [
      "1\n"
     ]
    }
   ],
   "source": [
    "import re\n",
    "\n",
    "text = \"ID番号はA1234Bです\"\n",
    "result = re.search(r\"\\d\", text)\n",
    "\n",
    "if result:\n",
    "    print(result.group())"
   ]
  },
  {
   "cell_type": "code",
   "execution_count": 3,
   "id": "b84ee70c",
   "metadata": {},
   "outputs": [
    {
     "name": "stdout",
     "output_type": "stream",
     "text": [
      "<re.Match object; span=(6, 7), match='1'>\n"
     ]
    }
   ],
   "source": [
    "import re\n",
    "\n",
    "text = \"ID番号はA1234Bです\"\n",
    "result = re.search(r\"\\d\", text)\n",
    "\n",
    "print(result)"
   ]
  },
  {
   "cell_type": "code",
   "execution_count": 4,
   "id": "7506c954",
   "metadata": {},
   "outputs": [
    {
     "name": "stdout",
     "output_type": "stream",
     "text": [
      "500\n"
     ]
    }
   ],
   "source": [
    "import re\n",
    "\n",
    "text = \"合計：500円、割引：30円\"\n",
    "result = re.search(r\"\\d+\", text)\n",
    "\n",
    "if result:\n",
    "    print(result.group())"
   ]
  },
  {
   "cell_type": "code",
   "execution_count": 5,
   "id": "1ca8fc91",
   "metadata": {},
   "outputs": [
    {
     "name": "stdout",
     "output_type": "stream",
     "text": [
      "ID\n"
     ]
    }
   ],
   "source": [
    "import re\n",
    "\n",
    "text = \"ID: abc_123, code: xyz!\"\n",
    "result = re.search(r\"\\w+\", text)\n",
    "\n",
    "if result:\n",
    "    print(result.group())"
   ]
  },
  {
   "cell_type": "code",
   "execution_count": 6,
   "id": "088f0b1f",
   "metadata": {},
   "outputs": [
    {
     "name": "stdout",
     "output_type": "stream",
     "text": [
      "空白の種類: '\\t'\n"
     ]
    }
   ],
   "source": [
    "import re\n",
    "\n",
    "text = \"Hello\\tPython!\"\n",
    "result = re.search(r\"\\s\", text)\n",
    "\n",
    "if result:\n",
    "    print(f\"空白の種類: {repr(result.group())}\")"
   ]
  },
  {
   "cell_type": "code",
   "execution_count": 7,
   "id": "b4cc2b71",
   "metadata": {},
   "outputs": [
    {
     "name": "stdout",
     "output_type": "stream",
     "text": [
      "\t\n"
     ]
    }
   ],
   "source": [
    "import re\n",
    "\n",
    "text = \"Hello\\tPython!\"\n",
    "result = re.search(r\"\\s\", text)\n",
    "\n",
    "if result:\n",
    "    print(result.group())"
   ]
  },
  {
   "cell_type": "code",
   "execution_count": 1,
   "id": "8f7b2634",
   "metadata": {},
   "outputs": [
    {
     "name": "stdout",
     "output_type": "stream",
     "text": [
      "world\n"
     ]
    }
   ],
   "source": [
    "import re\n",
    "\n",
    "text = \"Hello world\"\n",
    "result = re.search(r\"world$\", text)\n",
    "\n",
    "if result:\n",
    "    print(result.group())"
   ]
  },
  {
   "cell_type": "code",
   "execution_count": 2,
   "id": "6bc24f33",
   "metadata": {},
   "outputs": [
    {
     "name": "stdout",
     "output_type": "stream",
     "text": [
      "S\n"
     ]
    }
   ],
   "source": [
    "import re\n",
    "\n",
    "text = \"ランク：S\"\n",
    "result = re.search(r\"S$\", text)\n",
    "\n",
    "if result:\n",
    "    print(result.group())"
   ]
  },
  {
   "cell_type": "code",
   "execution_count": 3,
   "id": "eccabac9",
   "metadata": {},
   "outputs": [
    {
     "name": "stdout",
     "output_type": "stream",
     "text": [
      "['X100', 'Y200', 'Z300']\n"
     ]
    }
   ],
   "source": [
    "import re\n",
    "\n",
    "text = \"製品番号：X100, Y200, Z300\"\n",
    "result = re.findall(r\"[A-Z]\\d+\", text)\n",
    "\n",
    "print(result)"
   ]
  },
  {
   "cell_type": "code",
   "execution_count": null,
   "id": "cc367584",
   "metadata": {},
   "outputs": [
    {
     "name": "stdout",
     "output_type": "stream",
     "text": [
      "user01@example.com\n"
     ]
    }
   ],
   "source": [
    "import re\n",
    "\n",
    "text = \"連絡先：user01@example.com、予備：backup@temp.org\"\n",
    "result = re.search(r\"\\w+@\\w+\\.\\w+\", text)\n",
    "\n",
    "print(result.group())"
   ]
  },
  {
   "cell_type": "code",
   "execution_count": 13,
   "id": "c9f732f5",
   "metadata": {},
   "outputs": [
    {
     "name": "stdout",
     "output_type": "stream",
     "text": [
      "['1200', '3500', '800', '2000']\n"
     ]
    }
   ],
   "source": [
    "import re\n",
    "\n",
    "text = \"金額: 1200, 3500, 800, 2000\"\n",
    "result = re.findall(r\"\\d+\", text)\n",
    "\n",
    "print(result)"
   ]
  },
  {
   "cell_type": "code",
   "execution_count": 15,
   "id": "95d04e53",
   "metadata": {},
   "outputs": [
    {
     "name": "stdout",
     "output_type": "stream",
     "text": [
      "OKです\n"
     ]
    }
   ],
   "source": [
    "import re\n",
    "\n",
    "text = \"OK: 動作確認済み\"\n",
    "result = re.search(r\"^OK\", text)\n",
    "\n",
    "if result:\n",
    "    print(\"OKです\")\n",
    "else:\n",
    "    print(\"NGです\")"
   ]
  },
  {
   "cell_type": "code",
   "execution_count": null,
   "id": "514ef417",
   "metadata": {},
   "outputs": [],
   "source": []
  }
 ],
 "metadata": {
  "kernelspec": {
   "display_name": "venv",
   "language": "python",
   "name": "python3"
  },
  "language_info": {
   "codemirror_mode": {
    "name": "ipython",
    "version": 3
   },
   "file_extension": ".py",
   "mimetype": "text/x-python",
   "name": "python",
   "nbconvert_exporter": "python",
   "pygments_lexer": "ipython3",
   "version": "3.13.4"
  }
 },
 "nbformat": 4,
 "nbformat_minor": 5
}
