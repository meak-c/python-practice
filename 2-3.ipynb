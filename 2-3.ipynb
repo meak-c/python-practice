{
 "cells": [
  {
   "cell_type": "code",
   "execution_count": 7,
   "id": "7981d835",
   "metadata": {},
   "outputs": [
    {
     "name": "stdout",
     "output_type": "stream",
     "text": [
      "Alice\n",
      "Bob\n",
      "Carol\n",
      "Dave\n",
      "Average : 82.2\n",
      "Top: Bob (92点)\n"
     ]
    }
   ],
   "source": [
    "students = {\n",
    "    'Alice': 85,\n",
    "    'Bob': 92,\n",
    "    'Carol': 78,\n",
    "    'Dave': 90,\n",
    "    'Eve': 66\n",
    "}\n",
    "\n",
    "total = 0\n",
    "max_score = -float(\"inf\")\n",
    "\n",
    "for name, score in students.items():\n",
    "    if score >= 70:\n",
    "        print(name)\n",
    "\n",
    "for score in students.values():\n",
    "    total += score\n",
    "average = total / len(students)\n",
    "print(f\"Average : {average}\")\n",
    "\n",
    "for name, score in students.items():\n",
    "    if score > max_score:\n",
    "        max_score = score\n",
    "        top_student = name\n",
    "\n",
    "print(f\"Top: {top_student} ({max_score}点)\")"
   ]
  },
  {
   "cell_type": "code",
   "execution_count": 9,
   "id": "d853ee4e",
   "metadata": {},
   "outputs": [
    {
     "name": "stdout",
     "output_type": "stream",
     "text": [
      "Alice\n",
      "Bob\n",
      "Carol\n",
      "Dave\n",
      "Average: 82\n",
      "Top: Bob (92点)\n"
     ]
    }
   ],
   "source": [
    "students = {\n",
    "    'Alice': 85,\n",
    "    'Bob': 92,\n",
    "    'Carol': 78,\n",
    "    'Dave': 90,\n",
    "    'Eve': 66\n",
    "}\n",
    "\n",
    "# 問1：70点以上の学生名を出力\n",
    "for name, score in students.items():\n",
    "    if score >= 70:\n",
    "        print(name)\n",
    "\n",
    "# 問2：平均点（整数）を出力\n",
    "total = sum(students.values())\n",
    "average = total / len(students)\n",
    "print(f\"Average: {int(average)}\")\n",
    "\n",
    "# 問3：最も点数の高い学生を出力\n",
    "top_name, top_score = max(students.items(), key=lambda x: x[1])\n",
    "print(f\"Top: {top_name} ({top_score}点)\")"
   ]
  },
  {
   "cell_type": "code",
   "execution_count": null,
   "id": "89cbc68b",
   "metadata": {},
   "outputs": [
    {
     "name": "stdout",
     "output_type": "stream",
     "text": [
      "Python入門\n",
      "はじめての統計学\n",
      "仕事で使えるExcel\n",
      "Total : 21冊\n",
      "Most stocked : 仕事で使えるExcel (7冊)\n"
     ]
    }
   ],
   "source": [
    "books = {\n",
    "    \"Python入門\": 5,\n",
    "    \"AIと未来\": 2,\n",
    "    \"はじめての統計学\": 4,\n",
    "    \"仕事で使えるExcel\": 7,\n",
    "    \"ゼロからの機械学習\": 3,\n",
    "}\n",
    "\n",
    "# 問1 : 4冊以上ある本のタイトルを表示\n",
    "for title, amount in books.items():\n",
    "    if amount >= 4:\n",
    "        print(title)\n",
    "\n",
    "# 問2 : 在庫冊数の合計\n",
    "total = sum(books.values())\n",
    "print(f\"Total : {total}冊\")\n",
    "\n",
    "# 問3 : 在庫最多の本のタイトルと冊数\n",
    "title, amount = max(books.items(), key=lambda x: x[1])\n",
    "print(f\"Most stocked : {title} ({amount}冊)\")"
   ]
  },
  {
   "cell_type": "code",
   "execution_count": 10,
   "id": "dc4df28d",
   "metadata": {},
   "outputs": [
    {
     "name": "stdout",
     "output_type": "stream",
     "text": [
      "alice\n",
      "bob\n",
      "dave\n",
      "Most active: dave (3回)\n",
      "Total logins: 6回\n"
     ]
    }
   ],
   "source": [
    "login_history = {\n",
    "    \"alice\": [\"2024-12-01\", \"2024-12-05\"],\n",
    "    \"bob\": [\"2024-12-03\"],\n",
    "    \"carol\": [],\n",
    "    \"dave\": [\"2024-12-01\", \"2024-12-02\", \"2024-12-05\"],\n",
    "}\n",
    "\n",
    "# 問1 : ログイン履歴が1回以上あるユーザー名を表示\n",
    "for user_name, date in login_history.items():\n",
    "    if date:\n",
    "        print(user_name)\n",
    "\n",
    "# 問2 : ログイン回数最多のユーザーの名前と回数を表示\n",
    "user_name, date = max(login_history.items(), key=lambda x: len(x[1]))\n",
    "print(f\"Most active: {user_name} ({len(date)}回)\")\n",
    "\n",
    "# 問3 : ログイン回数の合計\n",
    "total = 0\n",
    "for date in login_history.values():\n",
    "    total += len(date)\n",
    "print(f\"Total logins: {total}回\")"
   ]
  },
  {
   "cell_type": "code",
   "execution_count": null,
   "id": "11595c42",
   "metadata": {},
   "outputs": [],
   "source": []
  }
 ],
 "metadata": {
  "kernelspec": {
   "display_name": "venv",
   "language": "python",
   "name": "python3"
  },
  "language_info": {
   "codemirror_mode": {
    "name": "ipython",
    "version": 3
   },
   "file_extension": ".py",
   "mimetype": "text/x-python",
   "name": "python",
   "nbconvert_exporter": "python",
   "pygments_lexer": "ipython3",
   "version": "3.13.4"
  }
 },
 "nbformat": 4,
 "nbformat_minor": 5
}
