{
 "cells": [
  {
   "cell_type": "code",
   "execution_count": 2,
   "id": "efe4dcb2",
   "metadata": {},
   "outputs": [
    {
     "name": "stdout",
     "output_type": "stream",
     "text": [
      "30\n"
     ]
    }
   ],
   "source": [
    "data = (10, 20, 30, 40)\n",
    "\n",
    "third_data = data[2]\n",
    "print(third_data)\n"
   ]
  },
  {
   "cell_type": "code",
   "execution_count": 7,
   "id": "3458943f",
   "metadata": {},
   "outputs": [
    {
     "name": "stdout",
     "output_type": "stream",
     "text": [
      "3\n"
     ]
    }
   ],
   "source": [
    "A = {2, 4, 6, 8}\n",
    "B = [1, 2, 3, 4, 5, 6]\n",
    "\n",
    "set_B = set(B)\n",
    "\n",
    "intersection = A & set_B\n",
    "print(len(intersection))"
   ]
  },
  {
   "cell_type": "code",
   "execution_count": 8,
   "id": "30869a8e",
   "metadata": {},
   "outputs": [
    {
     "name": "stdout",
     "output_type": "stream",
     "text": [
      "[1, 2, 3, 4, 5]\n"
     ]
    }
   ],
   "source": [
    "nums = [1, 2, 2, 3, 4, 4, 4, 5]\n",
    "\n",
    "non_duplicated_nums = set(nums)\n",
    "print(list(non_duplicated_nums))"
   ]
  },
  {
   "cell_type": "code",
   "execution_count": 10,
   "id": "d1680168",
   "metadata": {},
   "outputs": [
    {
     "name": "stdout",
     "output_type": "stream",
     "text": [
      "[1, 2, 3, 4, 5]\n"
     ]
    }
   ],
   "source": [
    "nums = [1, 2, 2, 3, 4, 4, 4, 5]\n",
    "\n",
    "result = []\n",
    "seen = set()\n",
    "\n",
    "for num in nums:\n",
    "    if num not in seen:\n",
    "        result.append(num)\n",
    "        seen.add(num)\n",
    "    \n",
    "print(result)"
   ]
  },
  {
   "cell_type": "code",
   "execution_count": 17,
   "id": "e3cc16b3",
   "metadata": {},
   "outputs": [
    {
     "name": "stdout",
     "output_type": "stream",
     "text": [
      "['apple', 'banana', 'cherry', 'date']\n",
      "['a', 'b', 'c', 'd']\n"
     ]
    }
   ],
   "source": [
    "words = ['apple', 'banana', 'cherry', 'apple', 'banana', 'date']\n",
    "\n",
    "result = []\n",
    "seen = set()\n",
    "\n",
    "for word in words:\n",
    "    if not word in seen:\n",
    "        result.append(word)\n",
    "        seen.add(word)\n",
    "        \n",
    "result2 = []\n",
    "seen2 = set()\n",
    "\n",
    "for word2 in result:\n",
    "    if not word2[0] in seen2:\n",
    "        result2.append(word2[0])\n",
    "        seen2.add(word2[0])\n",
    "\n",
    "print(sorted(seen))\n",
    "print(sorted(seen2))"
   ]
  },
  {
   "cell_type": "code",
   "execution_count": 7,
   "id": "0119f4bc",
   "metadata": {},
   "outputs": [
    {
     "name": "stdout",
     "output_type": "stream",
     "text": [
      "['apple', 'banana', 'cherry', 'date']\n",
      "['a', 'b', 'c', 'd']\n"
     ]
    }
   ],
   "source": [
    "words = ['apple', 'banana', 'cherry', 'apple', 'banana', 'date']\n",
    "\n",
    "result = []\n",
    "seen = set()\n",
    "\n",
    "for word in words:\n",
    "    if not word in seen:\n",
    "        result.append(word)\n",
    "        seen.add(word)\n",
    "        \n",
    "result2 = []\n",
    "seen2 = set()\n",
    "\n",
    "for word2 in result:\n",
    "    if not word2[0] in seen2:\n",
    "        result2.append(word2[0])\n",
    "        seen2.add(word2[0])\n",
    "        \n",
    "print(sorted(seen))\n",
    "print(sorted(seen2))"
   ]
  },
  {
   "cell_type": "code",
   "execution_count": 6,
   "id": "ec292777",
   "metadata": {},
   "outputs": [
    {
     "name": "stdout",
     "output_type": "stream",
     "text": [
      "[3, 7, 11]\n"
     ]
    }
   ],
   "source": [
    "points = [(1, 2), (3, 4), (5, 6)]\n",
    "\n",
    "total_list = []\n",
    "\n",
    "for x, y in points:\n",
    "    total = x + y\n",
    "    total_list.append(total)\n",
    "    \n",
    "print(total_list)"
   ]
  },
  {
   "cell_type": "code",
   "execution_count": null,
   "id": "1dba1d88",
   "metadata": {},
   "outputs": [
    {
     "name": "stdout",
     "output_type": "stream",
     "text": [
      "(4, (5, 6))\n",
      "6\n"
     ]
    }
   ],
   "source": [
    "data = (1, (2, 3), (4, (5, 6)))\n",
    "\n",
    "print(data[2][1][1])"
   ]
  },
  {
   "cell_type": "code",
   "execution_count": 18,
   "id": "58df3557",
   "metadata": {},
   "outputs": [
    {
     "name": "stdout",
     "output_type": "stream",
     "text": [
      "{1, 4, 6, 7}\n",
      "{1, 4, 6, 7}\n"
     ]
    }
   ],
   "source": [
    "A = {1, 3, 5, 7}\n",
    "B = {3, 4, 5, 6}\n",
    "\n",
    "print(A ^ B)\n",
    "print((A | B) - (A & B))"
   ]
  },
  {
   "cell_type": "code",
   "execution_count": 19,
   "id": "337db3c0",
   "metadata": {},
   "outputs": [
    {
     "name": "stdout",
     "output_type": "stream",
     "text": [
      "['Alice', 'Carol']\n"
     ]
    }
   ],
   "source": [
    "people = [('Alice', 24), ('Bob', 17), ('Carol', 20), ('Dave', 16)]\n",
    "\n",
    "name_list = []\n",
    "\n",
    "for info in people:\n",
    "    if int(info[1]) >= 20:\n",
    "        name_list.append(info[0])\n",
    "        \n",
    "print(name_list)"
   ]
  },
  {
   "cell_type": "code",
   "execution_count": 20,
   "id": "210808ff",
   "metadata": {},
   "outputs": [
    {
     "name": "stdout",
     "output_type": "stream",
     "text": [
      "['Alice', 'Carol']\n"
     ]
    }
   ],
   "source": [
    "people = [('Alice', 24), ('Bob', 17), ('Carol', 20), ('Dave', 16)]\n",
    "\n",
    "name_list = []\n",
    "\n",
    "for name, age in people:\n",
    "    if age >= 20:\n",
    "        name_list.append(name)\n",
    "        \n",
    "print(name_list)"
   ]
  },
  {
   "cell_type": "code",
   "execution_count": null,
   "id": "3600c9c7",
   "metadata": {},
   "outputs": [
    {
     "name": "stdout",
     "output_type": "stream",
     "text": [
      "{'banana', 'cherry'}\n"
     ]
    }
   ],
   "source": [
    "records = [\n",
    "    ('Alice', ['apple', 'banana', 'cherry']),\n",
    "    ('Bob',   ['banana', 'cherry']),\n",
    "    ('Carol', ['banana', 'cherry', 'date']),\n",
    "    ('Dave',  ['banana', 'cherry'])\n",
    "]\n",
    "\n",
    "result = set(records[0][1])\n",
    "\n",
    "for i in range(1, len(records)):\n",
    "    result = set(records[i][1]) & result\n",
    "\n",
    "print(result)"
   ]
  },
  {
   "cell_type": "code",
   "execution_count": null,
   "id": "adff1546",
   "metadata": {},
   "outputs": [],
   "source": []
  }
 ],
 "metadata": {
  "kernelspec": {
   "display_name": "venv",
   "language": "python",
   "name": "python3"
  },
  "language_info": {
   "codemirror_mode": {
    "name": "ipython",
    "version": 3
   },
   "file_extension": ".py",
   "mimetype": "text/x-python",
   "name": "python",
   "nbconvert_exporter": "python",
   "pygments_lexer": "ipython3",
   "version": "3.13.4"
  }
 },
 "nbformat": 4,
 "nbformat_minor": 5
}
