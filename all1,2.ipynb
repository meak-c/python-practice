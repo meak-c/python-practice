{
 "cells": [
  {
   "cell_type": "code",
   "execution_count": 17,
   "id": "4dc7947e",
   "metadata": {},
   "outputs": [
    {
     "name": "stdout",
     "output_type": "stream",
     "text": [
      "[1002, 1004]\n",
      "実行時間 : 0.000319秒\n"
     ]
    }
   ],
   "source": [
    "import re, time\n",
    "\n",
    "start = time.time()\n",
    "\n",
    "log = [\n",
    "    \"user_id: 1001, status: OK, time: 12:30\",\n",
    "    \"user_id: 1002, status: FAIL, time: 13:10\",\n",
    "    \"user_id: 1003, status: OK, time: 14:05\",\n",
    "    \"user_id: 1004, status: FAIL, time: 14:55\",\n",
    "]\n",
    "\n",
    "fail = [text for text in log if re.search(r\"status:\\s*FAIL\", text)]\n",
    "\n",
    "fail_id = [int(re.search(r\"user_id: (\\d+)\", u_id).group(1)) for u_id in fail]\n",
    "\n",
    "result = sorted(fail_id)\n",
    "\n",
    "print(result)\n",
    "\n",
    "end = time.time()\n",
    "\n",
    "print(f\"実行時間 : {end - start:.6f}秒\")"
   ]
  },
  {
   "cell_type": "code",
   "execution_count": 41,
   "id": "3d2f8306",
   "metadata": {},
   "outputs": [
    {
     "name": "stdout",
     "output_type": "stream",
     "text": [
      "[('alice_id', 'X100'), ('bob45', 'X300'), ('carol777', 'X200')]\n"
     ]
    }
   ],
   "source": [
    "import re\n",
    "\n",
    "log = [\n",
    "    '[2025-06-08 10:23] user: alice_id, message: \"注文番号はX100です\"',\n",
    "    '[2025-06-08 11:05] user: bob45, message: \"X300がまだ届きません\"',\n",
    "    '[2025-06-08 11:37] user: carol777, message: \"注文X200について確認したい\"',\n",
    "    '[2025-06-08 12:00] user: dave_, message: \"OKです\"',\n",
    "]\n",
    "\n",
    "message = [info for info in log if re.search(r\"X\\d+\", info)]\n",
    "\n",
    "result = []\n",
    "\n",
    "for text in message:\n",
    "    match = re.search(r\"user:\\s*(\\w+).*?(X\\d+)\", text)\n",
    "    result.append((match.group(1), match.group(2)))\n",
    "\n",
    "print(result)"
   ]
  },
  {
   "cell_type": "code",
   "execution_count": 44,
   "id": "c4d558ae",
   "metadata": {},
   "outputs": [
    {
     "name": "stdout",
     "output_type": "stream",
     "text": [
      "[('Alice', 'u123', 'alice@example.com'), ('Bob', 'u456', 'bob@example.org'), ('Carol', 'u789', 'carol@temp.co.jp')]\n"
     ]
    }
   ],
   "source": [
    "log = [\n",
    "    \"name: Alice, id: u123, email: alice@example.com\",\n",
    "    \"name: Bob, id: u456, email: bob@example.org\",\n",
    "    \"name: Carol, id: u789, email: carol@temp.co.jp\",\n",
    "    \"name: Dave, id: x999, email: dave@example.com\",\n",
    "]\n",
    "\n",
    "id_has_u = [info for info in log if re.search(r\"u\\d+\", info)]\n",
    "\n",
    "result = []\n",
    "\n",
    "for text in id_has_u:\n",
    "    match = re.search(r\"name:\\s*(\\w+), id:\\s*(u\\d+), email:\\s*([\\w@.]+)\", text)\n",
    "    result.append((match.group(1), match.group(2), match.group(3)))\n",
    "\n",
    "print(result)"
   ]
  },
  {
   "cell_type": "code",
   "execution_count": 47,
   "id": "d272735d",
   "metadata": {},
   "outputs": [
    {
     "name": "stdout",
     "output_type": "stream",
     "text": [
      "[('パソコン', '120000', '3'), ('マウス', '2500', '10'), ('キーボード', '5500', '1')]\n"
     ]
    }
   ],
   "source": [
    "log = [\n",
    "    \"No.001 | 商品: パソコン | 値段: 120000円 | 在庫: 3個\",\n",
    "    \"No.002 | 商品: モニター | 値段: 35000円 | 在庫: 0個\",\n",
    "    \"No.003 | 商品: マウス | 値段: 2500円 | 在庫: 10個\",\n",
    "    \"No.004 | 商品: キーボード | 値段: 5500円 | 在庫: 1個\",\n",
    "]\n",
    "\n",
    "stocks = [stock for stock in log if not re.search(r\"在庫:\\s*0個\", stock)]\n",
    "\n",
    "result = []\n",
    "\n",
    "for info in stocks:\n",
    "    match = re.search(r\"商品:\\s*(\\w+).*?値段:\\s*(\\d+).*?在庫:\\s*(\\d+)\", info)\n",
    "    result.append((match.group(1), match.group(2), match.group(3)))\n",
    "\n",
    "print(result)"
   ]
  },
  {
   "cell_type": "code",
   "execution_count": 8,
   "id": "f3685562",
   "metadata": {},
   "outputs": [
    {
     "name": "stdout",
     "output_type": "stream",
     "text": [
      "選ばれた受講者: ['Alice', 'Carol']\n",
      "人数: 2\n"
     ]
    }
   ],
   "source": [
    "applicants = [\n",
    "    {\"name\": \"Alice\", \"age\": 22, \"courses\": [\"Python\", \"AI\"], \"paid\": True},\n",
    "    {\"name\": \"Bob\", \"age\": 19, \"courses\": [\"Web\"], \"paid\": False},\n",
    "    {\"name\": \"Carol\", \"age\": 31, \"courses\": [\"Python\", \"Data\"], \"paid\": True},\n",
    "    {\"name\": \"Dave\", \"age\": 17, \"courses\": [\"Python\"], \"paid\": True},\n",
    "    {\"name\": \"Eve\", \"age\": 26, \"courses\": [\"AI\", \"Web\"], \"paid\": False},\n",
    "]\n",
    "\n",
    "passed = []\n",
    "\n",
    "for i in range(len(applicants)):\n",
    "    if applicants[i][\"age\"] >= 20 and applicants[i][\"paid\"]:\n",
    "        passed.append(applicants[i])\n",
    "\n",
    "python_learner = []\n",
    "\n",
    "for info in passed:\n",
    "    if \"Python\" in info[\"courses\"]:\n",
    "        python_learner.append(info[\"name\"])\n",
    "\n",
    "print(f\"選ばれた受講者: {sorted(python_learner)}\")\n",
    "print(f\"人数: {len(python_learner)}\")"
   ]
  },
  {
   "cell_type": "code",
   "execution_count": null,
   "id": "655705b8",
   "metadata": {},
   "outputs": [
    {
     "name": "stdout",
     "output_type": "stream",
     "text": [
      "選ばれた受講者: ['Alice', 'Carol']\n",
      "人数: 2\n"
     ]
    }
   ],
   "source": [
    "def filter_eligible(applicants):\n",
    "    result = []\n",
    "    for person in applicants:\n",
    "        if person[\"age\"] >= 20 and person[\"paid\"]:\n",
    "            result.append(person)\n",
    "    return result\n",
    "\n",
    "\n",
    "def extract_python_learners(people):\n",
    "    python_learner = []\n",
    "    for person in people:\n",
    "        if \"Python\" in person[\"courses\"]:\n",
    "            python_learner.append(person)\n",
    "    return python_learner\n",
    "\n",
    "\n",
    "def display_result(names):\n",
    "    print(f\"選ばれた受講者: {sorted([person['name'] for person in names])}\")\n",
    "    print(f\"人数: {len(names)}\")\n",
    "    return\n",
    "\n",
    "\n",
    "def main(applicants):\n",
    "    passed = filter_eligible(applicants)\n",
    "    python_learner = extract_python_learners(passed)\n",
    "    display_result(python_learner)\n",
    "    return\n",
    "\n",
    "\n",
    "applicants = [\n",
    "    {\"name\": \"Alice\", \"age\": 22, \"courses\": [\"Python\", \"AI\"], \"paid\": True},\n",
    "    {\"name\": \"Bob\", \"age\": 19, \"courses\": [\"Web\"], \"paid\": False},\n",
    "    {\"name\": \"Carol\", \"age\": 31, \"courses\": [\"Python\", \"Data\"], \"paid\": True},\n",
    "    {\"name\": \"Dave\", \"age\": 17, \"courses\": [\"Python\"], \"paid\": True},\n",
    "    {\"name\": \"Eve\", \"age\": 26, \"courses\": [\"AI\", \"Web\"], \"paid\": False},\n",
    "]\n",
    "\n",
    "main(applicants)"
   ]
  },
  {
   "cell_type": "code",
   "execution_count": null,
   "id": "c37e1092",
   "metadata": {},
   "outputs": [
    {
     "name": "stdout",
     "output_type": "stream",
     "text": [
      "['佐藤涼, 22, Python入門, True\\n', '山田光, 18, Python, True\\n', '渡辺葵, 25, Java, False\\n', '中村優, 30, Python中級, True']\n"
     ]
    }
   ],
   "source": [
    "def leraner_load():\n",
    "    try:\n",
    "        with open(\"participants.txt\", \"r\", encoding=\"utf-8\") as learner:\n",
    "            learners = learner.readlines()\n",
    "            return learners\n",
    "\n",
    "    except FileNotFoundError:\n",
    "        print(\"ファイルが見つかりません。\")\n",
    "\n",
    "print(leraner_load())"
   ]
  },
  {
   "cell_type": "code",
   "execution_count": 27,
   "id": "c984b4b1",
   "metadata": {},
   "outputs": [
    {
     "name": "stdout",
     "output_type": "stream",
     "text": [
      "条件に合う受講者一覧:\n",
      "中村優（30歳）\n",
      "佐藤涼（22歳）\n"
     ]
    }
   ],
   "source": [
    "def learner_load():\n",
    "    try:\n",
    "        with open(\"participants.txt\", \"r\", encoding=\"utf-8\") as file:\n",
    "            return file.readlines()\n",
    "    except FileNotFoundError:\n",
    "        print(\"ファイルが見つかりません。\")\n",
    "        return []\n",
    "\n",
    "def learner_sampling(learners):\n",
    "    extracted = []\n",
    "\n",
    "    for info in learners:\n",
    "        parts = info.strip().split(\",\")\n",
    "        if len(parts) != 4:\n",
    "            continue  # データ不備がある行はスキップ\n",
    "\n",
    "        name = parts[0].strip()\n",
    "        age = int(parts[1].strip())\n",
    "        course = parts[2].strip()\n",
    "        paid = parts[3].strip() == \"True\"\n",
    "\n",
    "        if \"Python\" in course and age >= 20 and paid:\n",
    "            extracted.append((name, age))\n",
    "\n",
    "    return sorted(extracted, key=lambda x: x[1], reverse=True)\n",
    "\n",
    "def display_result(learners):\n",
    "    if not learners:\n",
    "        print(\"条件に合う受講者はいません。\")\n",
    "        return\n",
    "\n",
    "    print(\"条件に合う受講者一覧:\")\n",
    "    for name, age in learners:\n",
    "        print(f\"{name}（{age}歳）\")\n",
    "\n",
    "def main():\n",
    "    raw_data = learner_load()\n",
    "    filtered = learner_sampling(raw_data)\n",
    "    display_result(filtered)\n",
    "\n",
    "main()"
   ]
  },
  {
   "cell_type": "code",
   "execution_count": 33,
   "id": "0b72db9e",
   "metadata": {},
   "outputs": [
    {
     "name": "stdout",
     "output_type": "stream",
     "text": [
      "Python受講者一覧\n",
      "中村優\n",
      "佐藤涼\n"
     ]
    }
   ],
   "source": [
    "def learner_load():\n",
    "    try:\n",
    "        with open(\"participants.txt\", \"r\", encoding=\"utf-8\") as file:\n",
    "            return file.readlines()\n",
    "        \n",
    "    except FileNotFoundError:\n",
    "        print(\"ファイルが見つかりません。\")\n",
    "        return []\n",
    "    \n",
    "\n",
    "def learner_sampling(learners):\n",
    "    extracted = []\n",
    "\n",
    "    for info in learners:\n",
    "        parts = info.strip().split(\",\")\n",
    "        if len(parts) != 2:\n",
    "            continue\n",
    "\n",
    "        name = parts[0].strip()\n",
    "        course = parts[1].strip()\n",
    "\n",
    "        if \"Python\" in course:\n",
    "            extracted.append(name)\n",
    "    return sorted(extracted, key=lambda x: x, reverse=False)\n",
    "\n",
    "\n",
    "def display_result(learners):\n",
    "    if not learners:\n",
    "        print(\"Python受講者はいません。\")\n",
    "        return\n",
    "    \n",
    "    print(\"Python受講者一覧\")\n",
    "    for name in learners:\n",
    "        print(name)\n",
    "\n",
    "\n",
    "def main():\n",
    "    learner_data = learner_load()\n",
    "    filtered = learner_sampling(learner_data)\n",
    "    display_result(filtered)\n",
    "\n",
    "\n",
    "main()"
   ]
  },
  {
   "cell_type": "code",
   "execution_count": 14,
   "id": "ee596b28",
   "metadata": {},
   "outputs": [
    {
     "name": "stdout",
     "output_type": "stream",
     "text": [
      "対象者一覧:\n",
      "中村優\n",
      "佐藤涼\n",
      "田中健\n"
     ]
    }
   ],
   "source": [
    "def learner_load():\n",
    "    try:\n",
    "        with open(\"participants.txt\", \"r\", encoding=\"utf-8\") as file:\n",
    "            return file.readlines()\n",
    "\n",
    "    except FileNotFoundError:\n",
    "        print(\"ファイルが見つかりません。\")\n",
    "        return []\n",
    "\n",
    "\n",
    "def learner_sampling(learners):\n",
    "    extracted = []\n",
    "\n",
    "    for info in learners:\n",
    "        parts = info.strip().split(\",\")\n",
    "        if len(parts) != 2:\n",
    "            continue\n",
    "\n",
    "        name = parts[0].strip()\n",
    "        course = parts[1].strip()\n",
    "\n",
    "        if \"JavaScript\" not in course:\n",
    "            extracted.append(name)\n",
    "\n",
    "    return sorted(extracted, key=lambda x: x, reverse=False)\n",
    "\n",
    "\n",
    "def display_result(learners):\n",
    "    if not learners:\n",
    "        print(\"JavaScriptを受講していない人はいません。\")\n",
    "        return\n",
    "\n",
    "    print(\"対象者一覧:\")\n",
    "    for name in learners:\n",
    "        print(name)\n",
    "\n",
    "\n",
    "def main():\n",
    "    learner = learner_load()\n",
    "    filtered = learner_sampling(learner)\n",
    "    display_result(filtered)\n",
    "\n",
    "\n",
    "main()"
   ]
  },
  {
   "cell_type": "code",
   "execution_count": 11,
   "id": "88b073aa",
   "metadata": {},
   "outputs": [
    {
     "name": "stdout",
     "output_type": "stream",
     "text": [
      "条件に合う受講者一覧:\n",
      "田村真 (24歳)\n",
      "佐藤涼 (23歳)\n",
      "田中健 (21歳)\n"
     ]
    }
   ],
   "source": [
    "def learner_load():\n",
    "    try:\n",
    "        with open(\"participants.txt\", \"r\", encoding=\"utf-8\") as file:\n",
    "            return file.readlines()\n",
    "\n",
    "    except FileNotFoundError:\n",
    "        print(\"ファイルが見つかりません。\")\n",
    "        return []\n",
    "\n",
    "\n",
    "def learner_sampling(learners):\n",
    "    extracted = []\n",
    "\n",
    "    for info in learners:\n",
    "        parts = info.strip().split(\",\")\n",
    "\n",
    "        if len(parts) != 4:\n",
    "            continue\n",
    "\n",
    "        name = parts[0].strip()\n",
    "        age = int(parts[1].strip())\n",
    "        course = parts[2].strip()\n",
    "        paid = parts[3].strip() == \"True\"\n",
    "\n",
    "        if age >= 20 and \"Python\" in course and paid and (\"田\" in name or \"佐\" in name):\n",
    "            extracted.append((name, age))\n",
    "\n",
    "    return extracted\n",
    "\n",
    "\n",
    "def display_result(learners):\n",
    "    if not learners:\n",
    "        print(\"条件に合う受講者はいませんでした。\")\n",
    "        return\n",
    "\n",
    "    print(\"条件に合う受講者一覧:\")\n",
    "    sorted_learners = sorted(learners, key=lambda x: x[1], reverse=True)\n",
    "    for name, age in sorted_learners:\n",
    "        print(f\"{name} ({age}歳)\")\n",
    "\n",
    "\n",
    "def main():\n",
    "    learner = learner_load()\n",
    "    filtered = learner_sampling(learner)\n",
    "    display_result(filtered)\n",
    "\n",
    "\n",
    "main()"
   ]
  },
  {
   "cell_type": "code",
   "execution_count": 15,
   "id": "113e8891",
   "metadata": {},
   "outputs": [
    {
     "name": "stdout",
     "output_type": "stream",
     "text": [
      "条件に合う受講者:\n",
      "田中健\n",
      "山田光\n"
     ]
    }
   ],
   "source": [
    "def filtered_applicants(applicants):\n",
    "    print(\"条件に合う受講者:\")\n",
    "    for info in applicants:\n",
    "        if info[\"age\"] >= 20 and \"Python\" in info[\"course\"] and info[\"paid\"]:\n",
    "            print(info[\"name\"])\n",
    "    \n",
    "\n",
    "applicants = [\n",
    "    {\"name\": \"田中健\", \"age\": 22, \"course\": \"Python\", \"paid\": True},\n",
    "    {\"name\": \"鈴木花\", \"age\": 19, \"course\": \"JavaScript\", \"paid\": True},\n",
    "    {\"name\": \"佐藤涼\", \"age\": 25, \"course\": \"Python中級\", \"paid\": False},\n",
    "    {\"name\": \"山田光\", \"age\": 23, \"course\": \"Python\", \"paid\": True},\n",
    "]\n",
    "\n",
    "filtered_applicants(applicants)"
   ]
  },
  {
   "cell_type": "code",
   "execution_count": 4,
   "id": "51f0ed47",
   "metadata": {},
   "outputs": [
    {
     "name": "stdout",
     "output_type": "stream",
     "text": [
      "条件を満たす受講者一覧:\n",
      "田中健\n",
      "山田光\n"
     ]
    }
   ],
   "source": [
    "def learner_sampling(learners):\n",
    "    filtered = []\n",
    "    for info in learners:\n",
    "        if info[\"age\"] >= 20 and \"Python\" in info[\"course\"] and info[\"paid\"]:\n",
    "            filtered.append(info[\"name\"])\n",
    "\n",
    "    if len(filtered) == 0:\n",
    "        print(\"条件を満たす受講者はいませんでした。\")\n",
    "        return\n",
    "\n",
    "    print(\"条件を満たす受講者一覧:\")\n",
    "    for name in filtered:\n",
    "        print(name)\n",
    "    return\n",
    "\n",
    "\n",
    "applicants = [\n",
    "    {\"name\": \"田中健\", \"age\": 22, \"course\": \"Python\", \"paid\": True},\n",
    "    {\"name\": \"鈴木花\", \"age\": 19, \"course\": \"JavaScript\", \"paid\": True},\n",
    "    {\"name\": \"佐藤涼\", \"age\": 25, \"course\": \"Python中級\", \"paid\": False},\n",
    "    {\"name\": \"山田光\", \"age\": 23, \"course\": \"Python\", \"paid\": True},\n",
    "]\n",
    "\n",
    "learner_sampling(applicants)"
   ]
  },
  {
   "cell_type": "code",
   "execution_count": 13,
   "id": "e5190e96",
   "metadata": {},
   "outputs": [
    {
     "name": "stdout",
     "output_type": "stream",
     "text": [
      "条件満たす受講者一覧:\n",
      "名前: 田中健 / 年齢: 22 / コース: Python\n",
      "名前: 山田光 / 年齢: 23 / コース: Python\n"
     ]
    }
   ],
   "source": [
    "def learner_sampling(learners):\n",
    "    filtered = [\n",
    "        info\n",
    "        for info in learners\n",
    "        if info[\"age\"] >= 20 and \"Python\" in info[\"course\"] and info[\"paid\"]\n",
    "    ]\n",
    "    return filtered\n",
    "\n",
    "\n",
    "def display_result(filtered):\n",
    "    if len(filtered) == 0:\n",
    "        print(\"条件を満たす受講者はいませんでした。\")\n",
    "        return\n",
    "\n",
    "    sorted_filtered = sorted(filtered, key=lambda x: x[\"age\"], reverse=False)\n",
    "\n",
    "    print(\"条件満たす受講者一覧:\")\n",
    "    for info in sorted_filtered:\n",
    "        print(f\"名前: {info[\"name\"]} / 年齢: {info[\"age\"]} / コース: {info[\"course\"]}\")\n",
    "    return\n",
    "\n",
    "\n",
    "def main(data_list):\n",
    "    filtered = learner_sampling(data_list)\n",
    "    display_result(filtered)\n",
    "\n",
    "\n",
    "applicants = [\n",
    "    {\"name\": \"田中健\", \"age\": 22, \"course\": \"Python\", \"paid\": True},\n",
    "    {\"name\": \"鈴木花\", \"age\": 19, \"course\": \"JavaScript\", \"paid\": True},\n",
    "    {\"name\": \"佐藤涼\", \"age\": 25, \"course\": \"Python中級\", \"paid\": False},\n",
    "    {\"name\": \"山田光\", \"age\": 23, \"course\": \"Python\", \"paid\": True},\n",
    "]\n",
    "\n",
    "main(applicants)"
   ]
  },
  {
   "cell_type": "code",
   "execution_count": null,
   "id": "b5b289d5",
   "metadata": {},
   "outputs": [
    {
     "name": "stdout",
     "output_type": "stream",
     "text": [
      "【支払い済み】\n"
     ]
    },
    {
     "ename": "TypeError",
     "evalue": "string indices must be integers, not 'str'",
     "output_type": "error",
     "traceback": [
      "\u001b[31m---------------------------------------------------------------------------\u001b[39m",
      "\u001b[31mTypeError\u001b[39m                                 Traceback (most recent call last)",
      "\u001b[36mCell\u001b[39m\u001b[36m \u001b[39m\u001b[32mIn[19]\u001b[39m\u001b[32m, line 62\u001b[39m\n\u001b[32m     48\u001b[39m     display_result(paid_counter, unpaid_counter)\n\u001b[32m     51\u001b[39m applicants = [\n\u001b[32m     52\u001b[39m     {\u001b[33m\"\u001b[39m\u001b[33mname\u001b[39m\u001b[33m\"\u001b[39m: \u001b[33m\"\u001b[39m\u001b[33m田中健\u001b[39m\u001b[33m\"\u001b[39m, \u001b[33m\"\u001b[39m\u001b[33mage\u001b[39m\u001b[33m\"\u001b[39m: \u001b[32m22\u001b[39m, \u001b[33m\"\u001b[39m\u001b[33mcourse\u001b[39m\u001b[33m\"\u001b[39m: \u001b[33m\"\u001b[39m\u001b[33mPython\u001b[39m\u001b[33m\"\u001b[39m, \u001b[33m\"\u001b[39m\u001b[33mpaid\u001b[39m\u001b[33m\"\u001b[39m: \u001b[38;5;28;01mTrue\u001b[39;00m},\n\u001b[32m     53\u001b[39m     {\u001b[33m\"\u001b[39m\u001b[33mname\u001b[39m\u001b[33m\"\u001b[39m: \u001b[33m\"\u001b[39m\u001b[33m鈴木花\u001b[39m\u001b[33m\"\u001b[39m, \u001b[33m\"\u001b[39m\u001b[33mage\u001b[39m\u001b[33m\"\u001b[39m: \u001b[32m19\u001b[39m, \u001b[33m\"\u001b[39m\u001b[33mcourse\u001b[39m\u001b[33m\"\u001b[39m: \u001b[33m\"\u001b[39m\u001b[33mJavaScript\u001b[39m\u001b[33m\"\u001b[39m, \u001b[33m\"\u001b[39m\u001b[33mpaid\u001b[39m\u001b[33m\"\u001b[39m: \u001b[38;5;28;01mTrue\u001b[39;00m},\n\u001b[32m   (...)\u001b[39m\u001b[32m     59\u001b[39m     {\u001b[33m\"\u001b[39m\u001b[33mname\u001b[39m\u001b[33m\"\u001b[39m: \u001b[33m\"\u001b[39m\u001b[33m岡本理沙\u001b[39m\u001b[33m\"\u001b[39m, \u001b[33m\"\u001b[39m\u001b[33mage\u001b[39m\u001b[33m\"\u001b[39m: \u001b[32m26\u001b[39m, \u001b[33m\"\u001b[39m\u001b[33mcourse\u001b[39m\u001b[33m\"\u001b[39m: \u001b[33m\"\u001b[39m\u001b[33mPython\u001b[39m\u001b[33m\"\u001b[39m, \u001b[33m\"\u001b[39m\u001b[33mpaid\u001b[39m\u001b[33m\"\u001b[39m: \u001b[38;5;28;01mTrue\u001b[39;00m},\n\u001b[32m     60\u001b[39m ]\n\u001b[32m---> \u001b[39m\u001b[32m62\u001b[39m \u001b[43mmain\u001b[49m\u001b[43m(\u001b[49m\u001b[43mapplicants\u001b[49m\u001b[43m)\u001b[49m\n",
      "\u001b[36mCell\u001b[39m\u001b[36m \u001b[39m\u001b[32mIn[19]\u001b[39m\u001b[32m, line 48\u001b[39m, in \u001b[36mmain\u001b[39m\u001b[34m(applicants)\u001b[39m\n\u001b[32m     46\u001b[39m paid, unpaid = learner_separated(applicants)\n\u001b[32m     47\u001b[39m paid_counter, unpaid_counter = counter(paid, unpaid)\n\u001b[32m---> \u001b[39m\u001b[32m48\u001b[39m \u001b[43mdisplay_result\u001b[49m\u001b[43m(\u001b[49m\u001b[43mpaid_counter\u001b[49m\u001b[43m,\u001b[49m\u001b[43m \u001b[49m\u001b[43munpaid_counter\u001b[49m\u001b[43m)\u001b[49m\n",
      "\u001b[36mCell\u001b[39m\u001b[36m \u001b[39m\u001b[32mIn[19]\u001b[39m\u001b[32m, line 34\u001b[39m, in \u001b[36mdisplay_result\u001b[39m\u001b[34m(paid_counter, unpaid_counter)\u001b[39m\n\u001b[32m     32\u001b[39m \u001b[38;5;28mprint\u001b[39m(\u001b[33m\"\u001b[39m\u001b[33m【支払い済み】\u001b[39m\u001b[33m\"\u001b[39m)\n\u001b[32m     33\u001b[39m \u001b[38;5;28;01mfor\u001b[39;00m info \u001b[38;5;129;01min\u001b[39;00m paid_counter:\n\u001b[32m---> \u001b[39m\u001b[32m34\u001b[39m     \u001b[38;5;28mprint\u001b[39m(\u001b[33mf\u001b[39m\u001b[33m\"\u001b[39m\u001b[38;5;132;01m{\u001b[39;00m\u001b[43minfo\u001b[49m\u001b[43m[\u001b[49m\u001b[33;43m\"\u001b[39;49m\u001b[33;43mcourse\u001b[39;49m\u001b[33;43m\"\u001b[39;49m\u001b[43m]\u001b[49m\u001b[38;5;132;01m}\u001b[39;00m\u001b[33m: \u001b[39m\u001b[38;5;132;01m{\u001b[39;00minfo[\u001b[33m\"\u001b[39m\u001b[33mpaid_course\u001b[39m\u001b[33m\"\u001b[39m]\u001b[38;5;132;01m}\u001b[39;00m\u001b[33m名\u001b[39m\u001b[33m\"\u001b[39m)\n\u001b[32m     36\u001b[39m \u001b[38;5;28mprint\u001b[39m(\u001b[33m\"\u001b[39m\u001b[38;5;130;01m\\n\u001b[39;00m\u001b[33m\"\u001b[39m)\n\u001b[32m     38\u001b[39m \u001b[38;5;28mprint\u001b[39m(\u001b[33m\"\u001b[39m\u001b[33m【未払い】\u001b[39m\u001b[33m\"\u001b[39m)\n",
      "\u001b[31mTypeError\u001b[39m: string indices must be integers, not 'str'"
     ]
    }
   ],
   "source": [
    "def learner_separated(learners):\n",
    "    paid_learner = [info for info in learners if info[\"paid\"]]\n",
    "    unpaid_learner = [info for info in learners if not info[\"paid\"]]\n",
    "\n",
    "    return paid_learner, unpaid_learner\n",
    "\n",
    "\n",
    "def counter(paid, unpaid):\n",
    "    paid_counter = {}\n",
    "    unpaid_counter = {}\n",
    "\n",
    "    for info in paid:\n",
    "        paid_course = info[\"course\"]\n",
    "\n",
    "        if paid_course not in paid_counter:\n",
    "            paid_counter[paid_course] = 0\n",
    "\n",
    "        paid_counter[paid_course] += 1\n",
    "\n",
    "    for info in unpaid:\n",
    "        unpaid_course = info[\"course\"]\n",
    "\n",
    "        if unpaid_course not in unpaid_counter:\n",
    "            unpaid_counter[unpaid_course] = 0\n",
    "\n",
    "        unpaid_counter[unpaid_course] += 1\n",
    "\n",
    "    return paid_counter, unpaid_counter\n",
    "\n",
    "\n",
    "def display_result(paid_counter, unpaid_counter):\n",
    "    print(\"【支払い済み】\")\n",
    "    for course in paid_counter:\n",
    "        print(f\"{course}: {paid_counter[course]}名\")\n",
    "\n",
    "    print(\"\\n\")\n",
    "\n",
    "    print(\"【未払い】\")\n",
    "    for course in unpaid_counter:\n",
    "        print(f\"{course}: {unpaid_counter[course]}名\")\n",
    "\n",
    "    return\n",
    "\n",
    "\n",
    "def main(applicants):\n",
    "    paid, unpaid = learner_separated(applicants)\n",
    "    paid_counter, unpaid_counter = counter(paid, unpaid)\n",
    "    display_result(paid_counter, unpaid_counter)\n",
    "\n",
    "\n",
    "applicants = [\n",
    "    {\"name\": \"田中健\", \"age\": 22, \"course\": \"Python\", \"paid\": True},\n",
    "    {\"name\": \"鈴木花\", \"age\": 19, \"course\": \"JavaScript\", \"paid\": True},\n",
    "    {\"name\": \"佐藤涼\", \"age\": 25, \"course\": \"Python\", \"paid\": False},\n",
    "    {\"name\": \"山田光\", \"age\": 23, \"course\": \"Python\", \"paid\": True},\n",
    "    {\"name\": \"石井愛\", \"age\": 30, \"course\": \"Java\", \"paid\": True},\n",
    "    {\"name\": \"村上翔\", \"age\": 22, \"course\": \"Python\", \"paid\": False},\n",
    "    {\"name\": \"吉田優\", \"age\": 18, \"course\": \"JavaScript\", \"paid\": True},\n",
    "    {\"name\": \"岡本理沙\", \"age\": 26, \"course\": \"Python\", \"paid\": True},\n",
    "]\n",
    "\n",
    "main(applicants)"
   ]
  },
  {
   "cell_type": "code",
   "execution_count": null,
   "id": "a7596f42",
   "metadata": {},
   "outputs": [],
   "source": []
  }
 ],
 "metadata": {
  "kernelspec": {
   "display_name": ".venv",
   "language": "python",
   "name": "python3"
  },
  "language_info": {
   "codemirror_mode": {
    "name": "ipython",
    "version": 3
   },
   "file_extension": ".py",
   "mimetype": "text/x-python",
   "name": "python",
   "nbconvert_exporter": "python",
   "pygments_lexer": "ipython3",
   "version": "3.13.4"
  }
 },
 "nbformat": 4,
 "nbformat_minor": 5
}
