{
 "cells": [
  {
   "cell_type": "code",
   "execution_count": 1,
   "id": "b07dcfe1",
   "metadata": {},
   "outputs": [
    {
     "name": "stdout",
     "output_type": "stream",
     "text": [
      "見つかった .txt ファイル：\n",
      "- report1.txt\n",
      "- report2.txt\n"
     ]
    }
   ],
   "source": [
    "from pathlib import Path\n",
    "\n",
    "# 🧱 ステップ1：ダミーファイルを作る\n",
    "file_names = [\"report1.txt\", \"report2.txt\", \"notes.md\", \"image.png\"]\n",
    "for name in file_names:\n",
    "    Path(name).write_text(\"テスト用ファイル\")\n",
    "\n",
    "# 🔍 ステップ2：本処理（.txt ファイルを探して表示）\n",
    "print(\"見つかった .txt ファイル：\")\n",
    "for txt_file in Path(\".\").glob(\"*.txt\"):\n",
    "    print(\"-\", txt_file.name)\n",
    "\n",
    "# 🧹 ステップ3：作ったファイルを削除\n",
    "for name in file_names:\n",
    "    path = Path(name)\n",
    "    if path.exists():\n",
    "        path.unlink()"
   ]
  },
  {
   "cell_type": "code",
   "execution_count": 4,
   "id": "512942fa",
   "metadata": {},
   "outputs": [
    {
     "name": "stdout",
     "output_type": "stream",
     "text": [
      "見つかった .md ファイル: \n",
      "- diary.md\n",
      "- read.md\n"
     ]
    }
   ],
   "source": [
    "from pathlib import Path\n",
    "\n",
    "file_names = [\"read.md\", \"diary.md\", \"index.html\", \"data.csv\"]\n",
    "for name in file_names:\n",
    "    Path(name).write_text(\"This is a test file.\")\n",
    "\n",
    "print(\"見つかった .md ファイル: \")\n",
    "for f in Path(\".\").glob(\"*.md\"):\n",
    "    print(f\"- {f.name}\")\n",
    "\n",
    "for name in file_names:\n",
    "    path = Path(name)\n",
    "    if path.exists():\n",
    "        path.unlink()"
   ]
  },
  {
   "cell_type": "code",
   "execution_count": 8,
   "id": "48ee5787",
   "metadata": {},
   "outputs": [
    {
     "name": "stdout",
     "output_type": "stream",
     "text": [
      "見つかった .csv ファイル:\n",
      "- menbers.csv\n",
      "- scores.csv\n"
     ]
    }
   ],
   "source": [
    "from pathlib import Path\n",
    "\n",
    "file_names = [\"scores.csv\", \"menbers.csv\", \"log.txt\", \"notes.md\"]\n",
    "for name in file_names:\n",
    "    Path(name).write_text(\"This is a test file.\")\n",
    "\n",
    "print(\"見つかった .csv ファイル:\")\n",
    "for csv_file in Path(\".\").glob(\"*.csv\"):\n",
    "    print(f\"- {csv_file.name}\")\n",
    "\n",
    "for name in file_names:\n",
    "    path = Path(name)\n",
    "    if path.exists():\n",
    "        path.unlink()"
   ]
  },
  {
   "cell_type": "code",
   "execution_count": 1,
   "id": "e975efb3",
   "metadata": {},
   "outputs": [
    {
     "name": "stdout",
     "output_type": "stream",
     "text": [
      "親ディレクトリ:src\n"
     ]
    }
   ],
   "source": [
    "from pathlib import Path\n",
    "\n",
    "p = Path(\"project/src/main.py\")\n",
    "print(f\"親ディレクトリ:{p.parent.name}\")"
   ]
  },
  {
   "cell_type": "code",
   "execution_count": 2,
   "id": "0dbddd94",
   "metadata": {},
   "outputs": [
    {
     "name": "stdout",
     "output_type": "stream",
     "text": [
      "2階層上のディレクトリ:logs\n"
     ]
    }
   ],
   "source": [
    "from pathlib import Path\n",
    "\n",
    "p = Path(\"app/logs/errors/output.log\")\n",
    "print(f\"2階層上のディレクトリ:{p.parent.parent.name}\")"
   ]
  },
  {
   "cell_type": "code",
   "execution_count": 2,
   "id": "5a93620e",
   "metadata": {},
   "outputs": [
    {
     "name": "stdout",
     "output_type": "stream",
     "text": [
      ".txt ファイルを移動しました:\n",
      "- intro.txt\n",
      "- report.txt\n",
      ".png ファイルを移動しました:\n",
      "- image.png\n",
      ".md ファイルを移動しました:\n",
      "- notes.md\n"
     ]
    }
   ],
   "source": [
    "from pathlib import Path\n",
    "from shutil import rmtree\n",
    "\n",
    "work_dir = Path(\"demo_dir\")\n",
    "work_dir.mkdir(exist_ok=True)\n",
    "\n",
    "file_names = [\"intro.txt\", \"image.png\", \"notes.md\", \"report.txt\"]\n",
    "for name in file_names:\n",
    "    (work_dir / name).write_text(\"This is a dummy file.\")\n",
    "\n",
    "destination = {\n",
    "    \".txt\": work_dir / \"text_files\",\n",
    "    \".png\": work_dir / \"images\",\n",
    "    \".md\": work_dir / \"markdown_files\"\n",
    "}\n",
    "\n",
    "for folder in destination.values():\n",
    "    folder.mkdir(exist_ok=True)\n",
    "\n",
    "for file in work_dir.iterdir():\n",
    "    if file.is_file():  #ファイルじゃなかったときの処理は？\n",
    "        ext = file.suffix\n",
    "        dest = destination.get(ext)  #extはdestinationのキー。対応する値（パス）を取り出してる\n",
    "        if dest:  #その拡張子のキーがあれば\n",
    "            (dest / file.name).unlink(missing_ok=True)  #missing_okなんて知らない\n",
    "            file.rename(dest / file.name)  #よくわかんない\n",
    "\n",
    "for ext, folder in destination.items():\n",
    "    print(f\"{ext} ファイルを移動しました:\")\n",
    "    for f in folder.iterdir(): #わかんない\n",
    "        print(f\"- {f.name}\")"
   ]
  },
  {
   "cell_type": "code",
   "execution_count": 8,
   "id": "7ba09109",
   "metadata": {},
   "outputs": [
    {
     "name": "stdout",
     "output_type": "stream",
     "text": [
      ".txt ファイルを移動しました:\n",
      "- draft.txt\n",
      "- summary.txt\n",
      ".md ファイルを移動しました:\n",
      "- readme.md\n",
      ".png ファイルを移動しました:\n",
      "- logo.png\n"
     ]
    }
   ],
   "source": [
    "from pathlib import Path\n",
    "from shutil import rmtree\n",
    "\n",
    "work_dir = Path(\"demo_dir\")\n",
    "work_dir.mkdir(exist_ok=True)\n",
    "\n",
    "file_names = [\"readme.md\", \"logo.png\", \"summary.txt\", \"draft.txt\"]\n",
    "for name in file_names:\n",
    "    (work_dir / name).write_text(\"This is a dummy file.\")\n",
    "\n",
    "destination = {\n",
    "    \".txt\": work_dir / \"text_data\",\n",
    "    \".md\": work_dir / \"markdown_docs\",\n",
    "    \".png\": work_dir / \"image_assets\"\n",
    "}\n",
    "\n",
    "for folder in destination.values():\n",
    "    folder.mkdir(exist_ok=True)\n",
    "\n",
    "for file in work_dir.iterdir():\n",
    "    if file.is_file():\n",
    "        ext = file.suffix\n",
    "        dest = destination.get(ext)\n",
    "        if dest:\n",
    "            (dest / file.name).unlink(missing_ok=True)\n",
    "            file.rename(dest / file.name)\n",
    "\n",
    "for ext, folder in destination.items():\n",
    "    print(f\"{ext} ファイルを移動しました:\")\n",
    "    for f in folder.iterdir():\n",
    "        print(f\"- {f.name}\")\n",
    "\n",
    "rmtree(\"demo_dir\")"
   ]
  },
  {
   "cell_type": "code",
   "execution_count": 20,
   "id": "e022cc7a",
   "metadata": {},
   "outputs": [
    {
     "name": "stdout",
     "output_type": "stream",
     "text": [
      "\n",
      ".py ファイルを移動しました:\n",
      "- main.py\n",
      "- test.py\n",
      "\n",
      ".md ファイルを移動しました:\n",
      "- notes.md\n",
      "\n",
      ".jpg ファイルを移動しました:\n",
      "- banner.jpg\n",
      "\n",
      ".png ファイルを移動しました:\n",
      "- icon.png\n",
      "\n",
      ".txt ファイルを移動しました:\n",
      "- info.txt\n"
     ]
    }
   ],
   "source": [
    "from pathlib import Path\n",
    "from shutil import rmtree\n",
    "\n",
    "work_dir = Path(\"demo_dir\")\n",
    "work_dir.mkdir(exist_ok=True)\n",
    "\n",
    "file_names = [\"main.py\", \"test.py\", \"notes.md\",\n",
    "              \"banner.jpg\", \"icon.png\", \"info.txt\"]\n",
    "for name in file_names:\n",
    "    (work_dir / name).write_text(\"This is a dummy file.\")\n",
    "\n",
    "destination = {\n",
    "    \".py\": work_dir / \"python_scripts\",\n",
    "    \".md\": work_dir / \"markdown_notes\",\n",
    "    \".jpg\": work_dir / \"image_assets\",\n",
    "    \".png\": work_dir / \"image_assets\",\n",
    "    \".txt\": work_dir / \"text_documents\"\n",
    "}\n",
    "\n",
    "for folder in set(destination.values()):\n",
    "    folder.mkdir(exist_ok=True)\n",
    "\n",
    "moved_files = {ext: [] for ext in destination}\n",
    "\n",
    "for file in work_dir.iterdir():\n",
    "    if file.is_file():\n",
    "        ext = file.suffix\n",
    "        dest = destination.get(ext)\n",
    "        if dest:\n",
    "            new_path = dest / file.name\n",
    "            new_path.unlink(missing_ok=True)\n",
    "            file.rename(new_path)\n",
    "            moved_files[ext].append(file.name)\n",
    "\n",
    "for ext, files in moved_files.items():\n",
    "    print(f\"\\n{ext} ファイルを移動しました:\")\n",
    "    for name in files:\n",
    "        print(f\"- {name}\")\n",
    "\n",
    "rmtree(work_dir)"
   ]
  },
  {
   "cell_type": "code",
   "execution_count": 21,
   "id": "978ef980",
   "metadata": {},
   "outputs": [
    {
     "name": "stdout",
     "output_type": "stream",
     "text": [
      "\n",
      "access ログファイルを移動しました:\n",
      "- log_project\\logs\\access\\access_2024-01.log\n",
      "- log_project\\logs\\access\\access_2024-02.log\n",
      "- log_project\\logs\\access\\access_2024-03.log\n",
      "\n",
      "error ログファイルを移動しました:\n",
      "- log_project\\logs\\error\\error_2024-01.log\n",
      "- log_project\\logs\\error\\error_2024-02.log\n",
      "- log_project\\logs\\error\\error_2024-03.log\n"
     ]
    }
   ],
   "source": [
    "from pathlib import Path\n",
    "from shutil import rmtree\n",
    "import re\n",
    "\n",
    "test_dir = Path(\"log_project\")\n",
    "test_dir.mkdir(exist_ok=True)\n",
    "\n",
    "file_names = [\n",
    "    \"access_2024-01.log\",\n",
    "    \"access_2024-02.log\",\n",
    "    \"access_2024-03.log\",\n",
    "    \"error_2024-01.log\",\n",
    "    \"error_2024-02.log\",\n",
    "    \"error_2024-03.log\"\n",
    "]\n",
    "\n",
    "for name in file_names:\n",
    "    (test_dir / name).write_text(\"This is a dummy file.\")\n",
    "\n",
    "destinations = {\n",
    "    \"access\": test_dir / \"logs\" / \"access\",\n",
    "    \"error\": test_dir / \"logs\" / \"error\"\n",
    "}\n",
    "\n",
    "for folder in destinations.values():\n",
    "    folder.mkdir(parents=True, exist_ok=True)\n",
    "\n",
    "for file in test_dir.iterdir():\n",
    "    if file.is_file():\n",
    "        if re.fullmatch(r\"^access_.*\\.log\", file.name):\n",
    "            dest = destinations[\"access\"]\n",
    "            (dest / file.name).unlink(missing_ok=True)\n",
    "            file.rename(dest / file.name)\n",
    "\n",
    "        if re.fullmatch(r\"error_.*\\.log\", file.name):\n",
    "            dest = destinations[\"error\"]\n",
    "            (dest / file.name).unlink(missing_ok=True)\n",
    "            file.rename(dest / file.name)\n",
    "\n",
    "for kind, folder in destinations.items():\n",
    "    print(f\"\\n{kind} ログファイルを移動しました:\")\n",
    "    for file in folder.iterdir():\n",
    "        print(f\"- {file}\")\n",
    "\n",
    "rmtree(test_dir)"
   ]
  },
  {
   "cell_type": "code",
   "execution_count": null,
   "id": "9f63913e",
   "metadata": {},
   "outputs": [],
   "source": [
    "from pathlib import Path\n",
    "from shutil import rmtree\n",
    "\n",
    "base_dir = Path(\"log_project\")\n",
    "base_dir.mkdir(exist_ok=True)\n",
    "\n",
    "file_names = [\n",
    "    \"access_2024-01.log\", \"access_2024-02.log\", \"access_2024-03.log\",\n",
    "    \"error_2024-01.log\", \"error_2024-02.log\", \"error_2024-03.log\"\n",
    "]\n",
    "for name in file_names:\n",
    "    (base_dir / name).write_text(\"Dummy log content.\")\n",
    "\n",
    "log_types = {\n",
    "    \"access\": base_dir / \"logs\" / \"access\",\n",
    "    \"error\": base_dir / \"logs\" / \"error\"\n",
    "}\n",
    "for folder in log_types.values():\n",
    "    folder.mkdir(parents=True, exist_ok=True)\n",
    "\n",
    "for file in base_dir.iterdir():\n",
    "    if file.is_file():\n",
    "        for log_type in log_types:\n",
    "            if file.name.startswith(log_type):\n",
    "                destination = log_types[log_type] / file.name\n",
    "                destination.unlink(missing_ok=True)\n",
    "                file.rename(destination)\n",
    "\n",
    "for log_type, folder in log_types.items():\n",
    "    print(f\"{log_type} ログファイルを移動しました:\")\n",
    "    for file in folder.iterdir():\n",
    "        print(f\"- {file.name}\")"
   ]
  },
  {
   "cell_type": "code",
   "execution_count": null,
   "id": "15188883",
   "metadata": {},
   "outputs": [],
   "source": []
  }
 ],
 "metadata": {
  "kernelspec": {
   "display_name": ".venv",
   "language": "python",
   "name": "python3"
  },
  "language_info": {
   "codemirror_mode": {
    "name": "ipython",
    "version": 3
   },
   "file_extension": ".py",
   "mimetype": "text/x-python",
   "name": "python",
   "nbconvert_exporter": "python",
   "pygments_lexer": "ipython3",
   "version": "3.13.4"
  }
 },
 "nbformat": 4,
 "nbformat_minor": 5
}
