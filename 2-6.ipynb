{
 "cells": [
  {
   "cell_type": "code",
   "execution_count": 1,
   "id": "61a4cce5",
   "metadata": {},
   "outputs": [
    {
     "name": "stdout",
     "output_type": "stream",
     "text": [
      "2636715631104\n",
      "2636715631104\n",
      "2636715631680\n"
     ]
    }
   ],
   "source": [
    "a = [1, 2, 3]\n",
    "b = a\n",
    "c = [1, 2, 3]\n",
    "\n",
    "print(id(a))  # aとbは同じ\n",
    "print(id(b))  # aとbは同じ\n",
    "print(id(c))  # cは別物（値は同じでも、別オブジェクト）"
   ]
  },
  {
   "cell_type": "code",
   "execution_count": 14,
   "id": "c2ca940a",
   "metadata": {},
   "outputs": [
    {
     "name": "stdout",
     "output_type": "stream",
     "text": [
      "名前が未設定です\n",
      "こんにちは、meekさん\n"
     ]
    }
   ],
   "source": [
    "def greet(name):\n",
    "    if name is None:\n",
    "        print(\"名前が未設定です\")\n",
    "    else:\n",
    "        print(f\"こんにちは、{name}さん\")\n",
    "\n",
    "greet(None)\n",
    "greet(\"meek\")"
   ]
  },
  {
   "cell_type": "code",
   "execution_count": null,
   "id": "5791c09b",
   "metadata": {},
   "outputs": [],
   "source": []
  }
 ],
 "metadata": {
  "kernelspec": {
   "display_name": "venv",
   "language": "python",
   "name": "python3"
  },
  "language_info": {
   "codemirror_mode": {
    "name": "ipython",
    "version": 3
   },
   "file_extension": ".py",
   "mimetype": "text/x-python",
   "name": "python",
   "nbconvert_exporter": "python",
   "pygments_lexer": "ipython3",
   "version": "3.13.4"
  }
 },
 "nbformat": 4,
 "nbformat_minor": 5
}
